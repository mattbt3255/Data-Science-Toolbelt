{
 "cells": [
  {
   "cell_type": "markdown",
   "metadata": {},
   "source": [
    "# Rock Paper Scizzors"
   ]
  },
  {
   "cell_type": "code",
   "execution_count": null,
   "metadata": {},
   "outputs": [
    {
     "name": "stdout",
     "output_type": "stream",
     "text": [
      "Let's Play Rock, Paper, Scizzors! Enter R for Rock, P for Paper, and S for Scizzors\n",
      "Player 1 Choice : r\n",
      "Player 2 Choice : p\n",
      "Player 2 Wins, Paper Beats Rock\n",
      "\n",
      "\n"
     ]
    }
   ],
   "source": [
    "print(\"Let's Play Rock, Paper, Scizzors! Enter R for Rock, P for Paper, and S for Scizzors\")\n",
    "\n",
    "player1 = False\n",
    "player2 = False\n",
    "\n",
    "while player1 == False and player2 == False:\n",
    "    \n",
    "    player1 = input(\"Player 1 Choice : \").upper()\n",
    "    player2 = input(\"Player 2 Choice : \").upper()\n",
    "\n",
    "    if player1 == player2:\n",
    "        print('Tie!')\n",
    "\n",
    "    elif (player1 == 'R') and (player2 == 'S'):\n",
    "        print('Player 1 Wins, Rock Beats Scizzors')\n",
    "\n",
    "    elif (player1 == 'R') and (player2 == 'P'):\n",
    "        print('Player 2 Wins, Paper Beats Rock')\n",
    "\n",
    "    elif (player1 == 'P') and (player2 == 'R'):\n",
    "        print('Player 1 Wins, Paper Beats Rock')\n",
    "\n",
    "    elif (player1 == 'P') and (player2 == 'S'):\n",
    "        print('Player 2 Wins, Scizzors Beats Paper')\n",
    "\n",
    "    elif (player1 == 'S') and (player2 == 'P'):\n",
    "        print('Player 1 Wins, Scizzors Beats Paper')\n",
    "\n",
    "    elif (player1 == 'S') and (player2 == 'R'):\n",
    "        print('Player 2 Wins, Rock Beats Scizzors')\n",
    "\n",
    "    else:\n",
    "        print(\"That's not a valid play. Check your spelling!\")\n",
    "        \n",
    "    print(\"\\n\")\n",
    "    \n",
    "    player1 = False\n",
    "    player2 = False"
   ]
  },
  {
   "cell_type": "code",
   "execution_count": null,
   "metadata": {},
   "outputs": [],
   "source": []
  }
 ],
 "metadata": {
  "kernelspec": {
   "display_name": "Python 3",
   "language": "python",
   "name": "python3"
  },
  "language_info": {
   "codemirror_mode": {
    "name": "ipython",
    "version": 3
   },
   "file_extension": ".py",
   "mimetype": "text/x-python",
   "name": "python",
   "nbconvert_exporter": "python",
   "pygments_lexer": "ipython3",
   "version": "3.7.4"
  }
 },
 "nbformat": 4,
 "nbformat_minor": 2
}

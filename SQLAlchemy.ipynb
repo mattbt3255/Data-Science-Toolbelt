{
 "cells": [
  {
   "cell_type": "markdown",
   "metadata": {
    "collapsed": true
   },
   "source": [
    "# [SQLAlchemy](https://www.datacamp.com/courses/introduction-to-relational-databases-in-python)"
   ]
  },
  {
   "cell_type": "code",
   "execution_count": 44,
   "metadata": {
    "collapsed": true
   },
   "outputs": [],
   "source": [
    "# Create Engine\n",
    "from sqlalchemy import *\n",
    "import psycopg2\n",
    "\n",
    "# Database Information\n",
    "dicty = dict(dialect='postgresql',driver='psycopg2',username='rvnpopiq',password='7tXUX6AjXtFTrNWX8oJwgqMlbEZHdPHQ',\n",
    "             host='elmer.db.elephantsql.com',port='5432',database_name='rvnpopiq')\n",
    "url = \"{dialect}+{driver}://{username}:{password}@{host}:{port}/{database_name}\".format(**dicty)\n",
    "\n",
    "engine = create_engine(url)"
   ]
  },
  {
   "cell_type": "code",
   "execution_count": 45,
   "metadata": {},
   "outputs": [
    {
     "data": {
      "text/plain": [
       "['django_migrations',\n",
       " 'auth_group_permissions',\n",
       " 'auth_group',\n",
       " 'auth_user_groups',\n",
       " 'auth_permission',\n",
       " 'auth_user_user_permissions',\n",
       " 'django_content_type',\n",
       " 'django_admin_log',\n",
       " 'auth_user',\n",
       " 'django_session',\n",
       " 'website_question',\n",
       " 'website_choice',\n",
       " 'website_hits',\n",
       " 'website_movies']"
      ]
     },
     "execution_count": 45,
     "metadata": {},
     "output_type": "execute_result"
    }
   ],
   "source": [
    "# Create List of Tables\n",
    "engine.table_names()"
   ]
  },
  {
   "cell_type": "code",
   "execution_count": 46,
   "metadata": {},
   "outputs": [
    {
     "data": {
      "text/plain": [
       "['id',\n",
       " 'name',\n",
       " 'rank',\n",
       " 'genre',\n",
       " 'poster',\n",
       " 'awards',\n",
       " 'year',\n",
       " 'imdbRating',\n",
       " 'imdbID',\n",
       " 'summary',\n",
       " 'actors',\n",
       " 'director',\n",
       " 'language',\n",
       " 'rated',\n",
       " 'created']"
      ]
     },
     "execution_count": 46,
     "metadata": {},
     "output_type": "execute_result"
    }
   ],
   "source": [
    "# Create List of Table Columns \n",
    "metadata = MetaData()\n",
    "\n",
    "website_movies = Table('website_movies', metadata, autoload=True, autoload_with=engine)\n",
    "\n",
    "website_movies.columns.keys()"
   ]
  },
  {
   "cell_type": "code",
   "execution_count": 47,
   "metadata": {},
   "outputs": [
    {
     "name": "stdout",
     "output_type": "stream",
     "text": [
      "Table('website_movies', MetaData(bind=None), Column('id', INTEGER(), table=<website_movies>, primary_key=True, nullable=False, server_default=DefaultClause(<sqlalchemy.sql.elements.TextClause object at 0x110999828>, for_update=False)), Column('name', VARCHAR(length=200), table=<website_movies>, nullable=False), Column('rank', INTEGER(), table=<website_movies>, nullable=False), Column('genre', VARCHAR(length=200), table=<website_movies>, nullable=False), Column('poster', VARCHAR(length=300), table=<website_movies>, nullable=False), Column('awards', VARCHAR(length=200), table=<website_movies>, nullable=False), Column('year', VARCHAR(length=200), table=<website_movies>, nullable=False), Column('imdbRating', VARCHAR(length=200), table=<website_movies>, nullable=False), Column('imdbID', VARCHAR(length=200), table=<website_movies>, nullable=False), Column('summary', VARCHAR(length=300), table=<website_movies>, nullable=False), Column('actors', VARCHAR(length=200), table=<website_movies>, nullable=False), Column('director', VARCHAR(length=200), table=<website_movies>, nullable=False), Column('language', VARCHAR(length=200), table=<website_movies>, nullable=False), Column('rated', VARCHAR(length=200), table=<website_movies>, nullable=False), Column('created', TIMESTAMP(timezone=True), table=<website_movies>, nullable=False), schema=None)\n"
     ]
    }
   ],
   "source": [
    "# Print Table Metadata\n",
    "\n",
    "metadata = MetaData()\n",
    "\n",
    "website_movies = Table('website_movies', metadata, autoload=True, autoload_with=engine)\n",
    "\n",
    "print(repr(metadata.tables['website_movies']))"
   ]
  },
  {
   "cell_type": "code",
   "execution_count": 48,
   "metadata": {},
   "outputs": [
    {
     "data": {
      "text/plain": [
       "'The Shawshank Redemption'"
      ]
     },
     "execution_count": 48,
     "metadata": {},
     "output_type": "execute_result"
    }
   ],
   "source": [
    "# Query Table via SQL Statment\n",
    "\n",
    "stmt = 'SELECT * FROM WEBSITE_MOVIES'\n",
    "\n",
    "connection = engine.connect()\n",
    "\n",
    "result = connection.execute(stmt).fetchall() # List of tuples (each tuple is a row)\n",
    "\n",
    "# First Row\n",
    "result[0]\n",
    "\n",
    "# First Row Column \"name\"\n",
    "result[0]['name']"
   ]
  },
  {
   "cell_type": "code",
   "execution_count": 52,
   "metadata": {},
   "outputs": [
    {
     "data": {
      "text/plain": [
       "[(2497, 'The Shawshank Redemption', 1, 'Crime, Drama', 'https://images-na.ssl-images-amazon.com/images/M/MV5BODU4MjU4NjIwNl5BMl5BanBnXkFtZTgwMDU2MjEyMDE@._V1_SX300.jpg', 'Nominated for 7 Oscars. Another 18 wins & 30 nominations.', '1994', '9.3', 'tt0111161', 'Two imprisoned men bond over a number of years, finding solace and eventual redemption through acts of common decency.', 'Tim Robbins, Morgan Freeman, Bob Gunton, William Sadler', 'Frank Darabont', 'English', 'R', datetime.datetime(2016, 11, 18, 0, 57, 29, 169109, tzinfo=psycopg2.tz.FixedOffsetTimezone(offset=0, name=None)))]"
      ]
     },
     "execution_count": 52,
     "metadata": {},
     "output_type": "execute_result"
    }
   ],
   "source": [
    "# Query Table Via Python Statement/Sqlalchemy\n",
    "\n",
    "metadata = MetaData()\n",
    "\n",
    "website_movies = Table('website_movies', metadata, autoload=True, autoload_with=engine)\n",
    "\n",
    "stmt = select([website_movies]).where(website_movies.columns.name == 'The Shawshank Redemption')\n",
    "\n",
    "results_proxy = connection.execute(stmt)\n",
    "\n",
    "results = results_proxy.fetchall()\n",
    "\n",
    "results"
   ]
  },
  {
   "cell_type": "code",
   "execution_count": 55,
   "metadata": {
    "scrolled": true
   },
   "outputs": [
    {
     "name": "stdout",
     "output_type": "stream",
     "text": [
      "{}\n"
     ]
    }
   ],
   "source": [
    "# Dealing with Large Datasets through fetchmany\n",
    "\n",
    "more_results = True\n",
    "state_count = {}\n",
    "\n",
    "# Start a while loop checking for more results\n",
    "while more_results:\n",
    "    # Fetch the first 50 results from the ResultProxy: partial_results\n",
    "    partial_results = result_proxy.fetchmany(2)\n",
    "\n",
    "    # if empty list, set more_results to False\n",
    "    if partial_results == []:\n",
    "        more_results = False\n",
    "\n",
    "    # Loop over the fetched records and increment the count for the state\n",
    "    for row in partial_results:\n",
    "        if row.state in state_count:\n",
    "            state_count[row.state] += 1\n",
    "        else:\n",
    "            state_count[row.state] = 1\n",
    "\n",
    "# Close the ResultProxy, and thus the connection\n",
    "results_proxy.close()\n",
    "\n",
    "# Print the count by state\n",
    "print(state_count)\n"
   ]
  },
  {
   "cell_type": "code",
   "execution_count": null,
   "metadata": {},
   "outputs": [],
   "source": []
  }
 ],
 "metadata": {
  "kernelspec": {
   "display_name": "Python 3",
   "language": "python",
   "name": "python3"
  },
  "language_info": {
   "codemirror_mode": {
    "name": "ipython",
    "version": 3
   },
   "file_extension": ".py",
   "mimetype": "text/x-python",
   "name": "python",
   "nbconvert_exporter": "python",
   "pygments_lexer": "ipython3",
   "version": "3.7.4"
  }
 },
 "nbformat": 4,
 "nbformat_minor": 2
}

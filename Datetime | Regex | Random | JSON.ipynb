{
 "cells": [
  {
   "cell_type": "markdown",
   "metadata": {},
   "source": [
    "# Datetime"
   ]
  },
  {
   "cell_type": "code",
   "execution_count": 61,
   "metadata": {},
   "outputs": [
    {
     "name": "stdout",
     "output_type": "stream",
     "text": [
      "2020-05-17 11:30:15.001000+00:00\n"
     ]
    }
   ],
   "source": [
    "# Create Datetime Object\n",
    "import datetime as dt\n",
    "import pytz\n",
    "\n",
    "date = dt.datetime(2020,5,17,11,30,15,1000,tzinfo=pytz.UTC) # Year, Month, Day, Hour, Minute, Second, Microsecnod, Timezone\n",
    "\n",
    "print(date)"
   ]
  },
  {
   "cell_type": "code",
   "execution_count": 3,
   "metadata": {},
   "outputs": [
    {
     "name": "stdout",
     "output_type": "stream",
     "text": [
      "2020-03-28 15:22:03.496410\n",
      "2020-03-28\n"
     ]
    }
   ],
   "source": [
    "# Print Current Date\n",
    "import datetime as dt\n",
    "\n",
    "print(dt.datetime.now()) # Year-Month-Day Hour:Minute:Second.Microsecond\n",
    "print(dt.date.today())"
   ]
  },
  {
   "cell_type": "code",
   "execution_count": 4,
   "metadata": {},
   "outputs": [
    {
     "data": {
      "text/plain": [
       "str"
      ]
     },
     "execution_count": 4,
     "metadata": {},
     "output_type": "execute_result"
    }
   ],
   "source": [
    "# Slice Using Strftime() Method (find all directives at https://www.w3schools.com/python/python_datetime.asp)\n",
    "import datetime as dt\n",
    "import pytz\n",
    "\n",
    "date = dt.datetime(2020,5,17,11,30,15,1000,tzinfo=pytz.UTC)\n",
    "\n",
    "date.strftime('%Y') # Returns Year\n",
    "date.strftime('%B') # Returns Month\n",
    "date.strftime('%U') # Returns Week Number, Sunday as first day of week\n",
    "date.strftime('%A') # Returns Day of Week5"
   ]
  },
  {
   "cell_type": "code",
   "execution_count": 9,
   "metadata": {},
   "outputs": [
    {
     "data": {
      "text/plain": [
       "datetime.datetime(2020, 3, 27, 15, 25, 12, 826761)"
      ]
     },
     "execution_count": 9,
     "metadata": {},
     "output_type": "execute_result"
    }
   ],
   "source": [
    "# Add/Subtract dates\n",
    "import datetime as dt\n",
    "\n",
    "dt.datetime.now() - dt.timedelta(days=1)"
   ]
  },
  {
   "cell_type": "markdown",
   "metadata": {},
   "source": [
    "# Regex"
   ]
  },
  {
   "cell_type": "code",
   "execution_count": 107,
   "metadata": {},
   "outputs": [
    {
     "data": {
      "text/plain": [
       "\"\\n\\\\w = any Unicode word character\\n\\\\s = any whitespace\\n\\\\d = any number 0-9\\n\\x08 = word boundaries (beginning/end of word)\\n\\n = new line\\n\\\\ = escape character (i.e. search for '(' instead of using it)\\n* = occurs at least 0 times i.e. OPTIONAL/KEEP GOING\\n+ = occurs at least once i.e. REQUIRED/STOP\\n? = occurs exactly 0 or 1 times, i.e. OPTIONAL\\n^ = beggining of string\\n$ = end of string\\n{3} = occurs exactly 3 times\\n{0,3} = occurs 0-3 times\\n{3,} = occurs 3 or more times\\n[a-z] = any lowercase letters from a to z\\n[^2] = character is not a 2\\n[aple] = apple (helps remove duplicates)\\n(a-z) = will only return what's in the parenthesis\\n\""
      ]
     },
     "execution_count": 107,
     "metadata": {},
     "output_type": "execute_result"
    }
   ],
   "source": [
    "# Regex Syntax\n",
    "\n",
    "'''\n",
    "\\w = any Unicode word character\n",
    "\\s = any whitespace\n",
    "\\d = any number 0-9\n",
    "\\b = word boundaries (beginning/end of word)\n",
    "\\n = new line\n",
    "\\ = escape character (i.e. search for '(' instead of using it)\n",
    "* = occurs at least 0 times i.e. OPTIONAL/KEEP GOING\n",
    "+ = occurs at least once i.e. REQUIRED/STOP\n",
    "? = occurs exactly 0 or 1 times, i.e. OPTIONAL\n",
    "^ = beggining of string\n",
    "$ = end of string\n",
    "{3} = occurs exactly 3 times\n",
    "{0,3} = occurs 0-3 times\n",
    "{3,} = occurs 3 or more times\n",
    "[a-z] = any lowercase letters from a to z\n",
    "[^2] = character is not a 2\n",
    "[aple] = apple (helps remove duplicates)\n",
    "(a-z) = will only return what's in the parenthesis\n",
    "'''"
   ]
  },
  {
   "cell_type": "code",
   "execution_count": 121,
   "metadata": {},
   "outputs": [
    {
     "data": {
      "text/plain": [
       "'The rain in Spain'"
      ]
     },
     "execution_count": 121,
     "metadata": {},
     "output_type": "execute_result"
    }
   ],
   "source": [
    "# Search (returns a match object)\n",
    "import re\n",
    "\n",
    "txt = \"The rain in Spain\"\n",
    "\n",
    "# Search the string to see if it starts with \"The\" and ends with \"Spain\":\n",
    "re.search(\"^The.*Spain$\",txt).string"
   ]
  },
  {
   "cell_type": "code",
   "execution_count": 123,
   "metadata": {},
   "outputs": [
    {
     "data": {
      "text/plain": [
       "['ai', 'ai']"
      ]
     },
     "execution_count": 123,
     "metadata": {},
     "output_type": "execute_result"
    }
   ],
   "source": [
    "# Findall (returns list containing all matches)\n",
    "import re\n",
    "\n",
    "txt = \"The rain in Spain\"\n",
    "\n",
    "re.findall(\"ai\", txt)"
   ]
  },
  {
   "cell_type": "code",
   "execution_count": 126,
   "metadata": {},
   "outputs": [
    {
     "data": {
      "text/plain": [
       "['The', 'rain', 'in', 'Spain']"
      ]
     },
     "execution_count": 126,
     "metadata": {},
     "output_type": "execute_result"
    }
   ],
   "source": [
    "# Split\n",
    "import re\n",
    "\n",
    "txt = \"The rain in Spain\"\n",
    "\n",
    "re.split(\"\\s\",txt)"
   ]
  },
  {
   "cell_type": "code",
   "execution_count": 130,
   "metadata": {},
   "outputs": [
    {
     "data": {
      "text/plain": [
       "'The9rain9in9Spain'"
      ]
     },
     "execution_count": 130,
     "metadata": {},
     "output_type": "execute_result"
    }
   ],
   "source": [
    "# Sub\n",
    "import re\n",
    "\n",
    "txt = \"The rain in Spain\"\n",
    "re.sub(\"\\s\", \"9\",txt)"
   ]
  },
  {
   "cell_type": "code",
   "execution_count": 150,
   "metadata": {},
   "outputs": [
    {
     "data": {
      "text/plain": [
       "'The rain in Spain'"
      ]
     },
     "execution_count": 150,
     "metadata": {},
     "output_type": "execute_result"
    }
   ],
   "source": [
    "# Match Object - String (Returns the string passed into the function.)\n",
    "import re\n",
    "\n",
    "txt = \"The rain in Spain\"\n",
    "\n",
    "re.search(r\"\\bS\\w+\", txt).string"
   ]
  },
  {
   "cell_type": "code",
   "execution_count": 149,
   "metadata": {},
   "outputs": [
    {
     "data": {
      "text/plain": [
       "(5, 7)"
      ]
     },
     "execution_count": 149,
     "metadata": {},
     "output_type": "execute_result"
    }
   ],
   "source": [
    "# Match Object - Span (Returns a tuple containing the start-, and end positions of the match.)\n",
    "import re\n",
    "\n",
    "txt = \"The rain in Spain\"\n",
    "\n",
    "re.search(\"ai\", txt).span()"
   ]
  },
  {
   "cell_type": "code",
   "execution_count": 152,
   "metadata": {},
   "outputs": [
    {
     "data": {
      "text/plain": [
       "'Spain'"
      ]
     },
     "execution_count": 152,
     "metadata": {},
     "output_type": "execute_result"
    }
   ],
   "source": [
    "# Match Object - Group (Returns the part of the string where there was a match)\n",
    "import re\n",
    "\n",
    "txt = \"The rain in Spain\"\n",
    "\n",
    "re.search(r\"\\bS\\w+\", txt).group() # Looks for word that starts with S"
   ]
  },
  {
   "cell_type": "code",
   "execution_count": null,
   "metadata": {},
   "outputs": [],
   "source": []
  }
 ],
 "metadata": {
  "kernelspec": {
   "display_name": "Python 3",
   "language": "python",
   "name": "python3"
  },
  "language_info": {
   "codemirror_mode": {
    "name": "ipython",
    "version": 3
   },
   "file_extension": ".py",
   "mimetype": "text/x-python",
   "name": "python",
   "nbconvert_exporter": "python",
   "pygments_lexer": "ipython3",
   "version": "3.7.4"
  }
 },
 "nbformat": 4,
 "nbformat_minor": 2
}

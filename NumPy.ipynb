{
 "cells": [
  {
   "cell_type": "markdown",
   "metadata": {},
   "source": [
    "# NumPy"
   ]
  },
  {
   "cell_type": "code",
   "execution_count": 42,
   "metadata": {},
   "outputs": [
    {
     "data": {
      "text/plain": [
       "array([[7, 7, 2, 7],\n",
       "       [0, 7, 2, 5],\n",
       "       [9, 4, 1, 2]])"
      ]
     },
     "execution_count": 42,
     "metadata": {},
     "output_type": "execute_result"
    }
   ],
   "source": [
    "# Create an Array\n",
    "import numpy as np\n",
    "\n",
    "array1 = np.array([1,2,3]) # One dimension (1x3)\n",
    "\n",
    "array2 = np.array([[1,2,3],\n",
    "                   [4,5,6],\n",
    "                   [7,8,9]]) # Three dimensions (3x3)\n",
    "\n",
    "array3 = np.arange(0,11,2) # Start,stop,step\n",
    "\n",
    "array4 = np.linspace(0,5,10) # One dimensional array consisting of 10 values between 0-5\n",
    "\n",
    "array5 = np.random.randn(5,5) # 5x5 Matrix with random normal distributed numbers from 0-1\n",
    "\n",
    "array6 = np.zeros(shape=(3,4)) # Rows, columns\n",
    "\n",
    "array7 = np.random.choice(10,(3,4)) # Creates a 3X4 matrix with random values between 0 and 9\n",
    "\n",
    "\n",
    "array7"
   ]
  },
  {
   "cell_type": "code",
   "execution_count": 68,
   "metadata": {},
   "outputs": [
    {
     "data": {
      "text/plain": [
       "array([[4, 5, 6],\n",
       "       [7, 8, 9]])"
      ]
     },
     "execution_count": 68,
     "metadata": {},
     "output_type": "execute_result"
    }
   ],
   "source": [
    "# Slicing\n",
    "import numpy as np\n",
    "\n",
    "array = np.array([[1,2,3],\n",
    "                  [4,5,6],\n",
    "                  [7,8,9],\n",
    "                  [10,11,12],\n",
    "                  [13,14,15]])\n",
    "\n",
    "array[1,1] # Row, Column (starts at 0)\n",
    "array[1:3:1] # Start (Inclusive):Stop (Not Inclusive):Step"
   ]
  },
  {
   "cell_type": "code",
   "execution_count": 72,
   "metadata": {},
   "outputs": [
    {
     "data": {
      "text/plain": [
       "array([ 7,  8,  9, 10, 11, 12, 13, 14, 15])"
      ]
     },
     "execution_count": 72,
     "metadata": {},
     "output_type": "execute_result"
    }
   ],
   "source": [
    "# Filter\n",
    "import numpy as np\n",
    "\n",
    "array = np.array([[1,2,3],\n",
    "                  [4,5,6],\n",
    "                  [7,8,9],\n",
    "                  [10,11,12],\n",
    "                  [13,14,15]])\n",
    "\n",
    "array[array > 6]"
   ]
  },
  {
   "cell_type": "code",
   "execution_count": 87,
   "metadata": {},
   "outputs": [
    {
     "data": {
      "text/plain": [
       "array([[1, 2, 3],\n",
       "       [4, 6, 6],\n",
       "       [7, 8, 9]])"
      ]
     },
     "execution_count": 87,
     "metadata": {},
     "output_type": "execute_result"
    }
   ],
   "source": [
    "# Update\n",
    "import numpy as np\n",
    "\n",
    "array = np.array([[1,2,3],\n",
    "                  [4,5,6],\n",
    "                  [7,8,9]])\n",
    "\n",
    "array[1,1] = 6\n",
    "\n",
    "array"
   ]
  },
  {
   "cell_type": "code",
   "execution_count": 88,
   "metadata": {},
   "outputs": [
    {
     "data": {
      "text/plain": [
       "(2, 3)"
      ]
     },
     "execution_count": 88,
     "metadata": {},
     "output_type": "execute_result"
    }
   ],
   "source": [
    "# Shape\n",
    "import numpy as np\n",
    "\n",
    "array = np.array([[1,2,3],\n",
    "                  [4,5,6]])\n",
    "\n",
    "array.shape"
   ]
  },
  {
   "cell_type": "code",
   "execution_count": 89,
   "metadata": {},
   "outputs": [
    {
     "data": {
      "text/plain": [
       "array([[1, 2],\n",
       "       [3, 4],\n",
       "       [5, 6]])"
      ]
     },
     "execution_count": 89,
     "metadata": {},
     "output_type": "execute_result"
    }
   ],
   "source": [
    "# Reshape\n",
    "import numpy as np\n",
    "\n",
    "array = np.array([[1,2,3],\n",
    "                  [4,5,6]])\n",
    "\n",
    "array.reshape(3,2)"
   ]
  },
  {
   "cell_type": "code",
   "execution_count": 98,
   "metadata": {},
   "outputs": [
    {
     "data": {
      "text/plain": [
       "array([5, 7, 9])"
      ]
     },
     "execution_count": 98,
     "metadata": {},
     "output_type": "execute_result"
    }
   ],
   "source": [
    "# Sum, Max, Min, Len\n",
    "import numpy as np\n",
    "\n",
    "array = np.array([[1,2,3],\n",
    "                  [4,5,6]])\n",
    "\n",
    "array + 100 # Adds 100 to every value in array\n",
    "array.max()\n",
    "array.min()\n",
    "array.sum()\n",
    "array.sum(axis=0) # Get sum of each column (axis=0) or row (axis=1)\n"
   ]
  },
  {
   "cell_type": "code",
   "execution_count": 106,
   "metadata": {},
   "outputs": [
    {
     "data": {
      "text/plain": [
       "array([[0.14285714, 0.25      , 0.33333333],\n",
       "       [0.4       , 0.45454545, 0.5       ]])"
      ]
     },
     "execution_count": 106,
     "metadata": {},
     "output_type": "execute_result"
    }
   ],
   "source": [
    "# Add, Multiply, Divide Arrays\n",
    "import numpy as np\n",
    "\n",
    "array1 = np.array([[1,2,3],\n",
    "                  [4,5,6]])\n",
    "\n",
    "array2 = np.array([[7,8,9],\n",
    "                  [10,11,12]])\n",
    "\n",
    "array1 + array2\n",
    "array1 * array2\n",
    "array1 / array2"
   ]
  },
  {
   "cell_type": "code",
   "execution_count": 113,
   "metadata": {},
   "outputs": [
    {
     "data": {
      "text/plain": [
       "array([[0, 1]])"
      ]
     },
     "execution_count": 113,
     "metadata": {},
     "output_type": "execute_result"
    }
   ],
   "source": [
    "# Find Index (argwhere,argmax,argmin)\n",
    "import numpy as np\n",
    "\n",
    "array = np.array([[1,2,3],\n",
    "                  [4,5,6]])\n",
    "\n",
    "array.argmax() # Returns Index of Max Value\n",
    "array.argmin() # Returns Index of Min Value\n",
    "np.argwhere(array == 2) # Returns Row,Column Index"
   ]
  },
  {
   "cell_type": "code",
   "execution_count": 114,
   "metadata": {
    "scrolled": true
   },
   "outputs": [
    {
     "data": {
      "text/plain": [
       "array([[1., 0., 0., 0.],\n",
       "       [0., 1., 0., 0.],\n",
       "       [0., 0., 1., 0.],\n",
       "       [0., 0., 0., 1.]])"
      ]
     },
     "execution_count": 114,
     "metadata": {},
     "output_type": "execute_result"
    }
   ],
   "source": [
    "# Create Identity Matrix\n",
    "import numpy as np\n",
    "\n",
    "np.eye(4)"
   ]
  },
  {
   "cell_type": "code",
   "execution_count": null,
   "metadata": {},
   "outputs": [],
   "source": []
  }
 ],
 "metadata": {
  "kernelspec": {
   "display_name": "Python 3",
   "language": "python",
   "name": "python3"
  },
  "language_info": {
   "codemirror_mode": {
    "name": "ipython",
    "version": 3
   },
   "file_extension": ".py",
   "mimetype": "text/x-python",
   "name": "python",
   "nbconvert_exporter": "python",
   "pygments_lexer": "ipython3",
   "version": "3.7.4"
  }
 },
 "nbformat": 4,
 "nbformat_minor": 2
}

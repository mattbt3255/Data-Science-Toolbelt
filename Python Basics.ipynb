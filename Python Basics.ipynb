{
 "cells": [
  {
   "cell_type": "markdown",
   "metadata": {},
   "source": [
    "# Operators"
   ]
  },
  {
   "cell_type": "code",
   "execution_count": 27,
   "metadata": {},
   "outputs": [],
   "source": [
    "# Comparision Operators\n",
    "\n",
    "a = 5\n",
    "b = 2\n",
    "\n",
    "a == b # Is a equal to b\n",
    "a != b # Is a not equal to b\n",
    "a > b # Is a greater than b\n",
    "a < b # Is a less than b\n",
    "a >= b # Is a greater than or equal b"
   ]
  },
  {
   "cell_type": "code",
   "execution_count": 3,
   "metadata": {},
   "outputs": [
    {
     "data": {
      "text/plain": [
       "True"
      ]
     },
     "execution_count": 3,
     "metadata": {},
     "output_type": "execute_result"
    }
   ],
   "source": [
    "# Logical/Membership Operators\n",
    "\n",
    "a = 5\n",
    "b = 2\n",
    "c = 'a'\n",
    "d = 'abcd'\n",
    "\n",
    "a > b and b == 1 # & can replace \"and\"\n",
    "a > b or b == 2 # | can replace \"or\"\n",
    "not(a > b) # Returns the opposite\n",
    "a is b\n",
    "a is not b\n",
    "c in d\n",
    "c not in d"
   ]
  },
  {
   "cell_type": "code",
   "execution_count": 31,
   "metadata": {},
   "outputs": [
    {
     "data": {
      "text/plain": [
       "2"
      ]
     },
     "execution_count": 31,
     "metadata": {},
     "output_type": "execute_result"
    }
   ],
   "source": [
    "# Arithmetic Operators\n",
    "\n",
    "a = 5\n",
    "b = 2\n",
    "\n",
    "a + b # Addition\n",
    "a - b # Subtraction\n",
    "a * b # Multiplication\n",
    "a / b # Division\n",
    "a % b # Modulus (returns remainder of division)\n",
    "a ** b # Exponentiation\n",
    "a // b # Floor Division"
   ]
  },
  {
   "cell_type": "code",
   "execution_count": 3,
   "metadata": {},
   "outputs": [
    {
     "data": {
      "text/plain": [
       "8"
      ]
     },
     "execution_count": 3,
     "metadata": {},
     "output_type": "execute_result"
    }
   ],
   "source": [
    "# Assignment Operators\n",
    "\n",
    "a = 5\n",
    "\n",
    "a += 3 # Same as a = a + 3\n",
    "\n",
    "a"
   ]
  },
  {
   "cell_type": "code",
   "execution_count": 1,
   "metadata": {},
   "outputs": [],
   "source": [
    "# Bitwise Operators"
   ]
  },
  {
   "cell_type": "code",
   "execution_count": 3,
   "metadata": {},
   "outputs": [
    {
     "name": "stdout",
     "output_type": "stream",
     "text": [
      "This back slash acts like enter\n"
     ]
    }
   ],
   "source": [
    "# Splitting lines\n",
    "\n",
    "message\\\n",
    "=\\\n",
    "'This \\\n",
    "back slash \\\n",
    "acts \\\n",
    "like \\\n",
    "enter'\n",
    "print(\\\n",
    "message)"
   ]
  },
  {
   "cell_type": "markdown",
   "metadata": {},
   "source": [
    "# Loops"
   ]
  },
  {
   "cell_type": "code",
   "execution_count": 4,
   "metadata": {},
   "outputs": [
    {
     "data": {
      "text/plain": [
       "[1, 2, 3, 4, 5, 6, 7, 8, 9, 10]"
      ]
     },
     "execution_count": 4,
     "metadata": {},
     "output_type": "execute_result"
    }
   ],
   "source": [
    "# For Loop\n",
    "\n",
    "listy = []\n",
    "\n",
    "for x in range(1,11):\n",
    "    listy.append(x)\n",
    "\n",
    "listy"
   ]
  },
  {
   "cell_type": "code",
   "execution_count": 5,
   "metadata": {},
   "outputs": [
    {
     "data": {
      "text/plain": [
       "[1, 2, 3, 4, 5, 6, 7, 8, 9, 10]"
      ]
     },
     "execution_count": 5,
     "metadata": {},
     "output_type": "execute_result"
    }
   ],
   "source": [
    "# For Loop - List Comprehension\n",
    "\n",
    "[x for x in range(1,11)]"
   ]
  },
  {
   "cell_type": "code",
   "execution_count": 6,
   "metadata": {},
   "outputs": [
    {
     "data": {
      "text/plain": [
       "[1, 2, 3, 4, 5, 6, 7, 8, 9, 10]"
      ]
     },
     "execution_count": 6,
     "metadata": {},
     "output_type": "execute_result"
    }
   ],
   "source": [
    "# While Loop\n",
    "\n",
    "listy = []\n",
    "x = 1\n",
    "\n",
    "while x < 11:\n",
    "  listy.append(x)\n",
    "  x = x + 1\n",
    "\n",
    "listy"
   ]
  },
  {
   "cell_type": "markdown",
   "metadata": {},
   "source": [
    "# If Statements"
   ]
  },
  {
   "cell_type": "code",
   "execution_count": 7,
   "metadata": {},
   "outputs": [
    {
     "name": "stdout",
     "output_type": "stream",
     "text": [
      "a is greater than b\n"
     ]
    }
   ],
   "source": [
    "# Long Hand If Statement\n",
    "\n",
    "a = 200\n",
    "b = 33\n",
    "\n",
    "if b > a:\n",
    "  print(\"b is greater than a\")\n",
    "elif a == b:\n",
    "  print(\"a and b are equal\")\n",
    "else:\n",
    "  print(\"a is greater than b\")"
   ]
  },
  {
   "cell_type": "code",
   "execution_count": 1,
   "metadata": {},
   "outputs": [
    {
     "ename": "SyntaxError",
     "evalue": "invalid syntax (<ipython-input-1-51923dca5dc5>, line 6)",
     "output_type": "error",
     "traceback": [
      "\u001b[0;36m  File \u001b[0;32m\"<ipython-input-1-51923dca5dc5>\"\u001b[0;36m, line \u001b[0;32m6\u001b[0m\n\u001b[0;31m    if a > b: print(\"a is greater than b\") else \"poop\"\u001b[0m\n\u001b[0m                                              ^\u001b[0m\n\u001b[0;31mSyntaxError\u001b[0m\u001b[0;31m:\u001b[0m invalid syntax\n"
     ]
    }
   ],
   "source": [
    "# Short Hand If Statements\n",
    "\n",
    "a = 200\n",
    "b = 33\n",
    "\n",
    "if a > b: print(\"a is greater than b\")\n",
    "    \n",
    "print(\"a is greater than b\") if a > b else print(\"a is equal to b\") if a == b else print(\"Other\") "
   ]
  },
  {
   "cell_type": "markdown",
   "metadata": {},
   "source": [
    "# Strings"
   ]
  },
  {
   "cell_type": "code",
   "execution_count": 12,
   "metadata": {},
   "outputs": [
    {
     "data": {
      "text/plain": [
       "'hcoolocoolp'"
      ]
     },
     "execution_count": 12,
     "metadata": {},
     "output_type": "execute_result"
    }
   ],
   "source": [
    "# Slicing\n",
    "\n",
    "stringy = \"Hello, World!\"\n",
    "\n",
    "stringy[0:5:2] # Start:Stop:Step"
   ]
  },
  {
   "cell_type": "code",
   "execution_count": 34,
   "metadata": {},
   "outputs": [
    {
     "data": {
      "text/plain": [
       "['e', ',', 'W']"
      ]
     },
     "execution_count": 34,
     "metadata": {},
     "output_type": "execute_result"
    }
   ],
   "source": [
    "# Slicing via Loop\n",
    "\n",
    "stringy = \"Hello, World!\"\n",
    "\n",
    "[stringy[x] for x in [1,5,7]]"
   ]
  },
  {
   "cell_type": "code",
   "execution_count": 5,
   "metadata": {},
   "outputs": [
    {
     "data": {
      "text/plain": [
       "'Hello...World!'"
      ]
     },
     "execution_count": 5,
     "metadata": {},
     "output_type": "execute_result"
    }
   ],
   "source": [
    "# Format\n",
    "\n",
    "'{a}...{b}'.format(a='Hello',b='World!')"
   ]
  },
  {
   "cell_type": "code",
   "execution_count": 1,
   "metadata": {},
   "outputs": [
    {
     "data": {
      "text/plain": [
       "'The brand is Ford, the model is Mustang, and the year is 1964'"
      ]
     },
     "execution_count": 1,
     "metadata": {},
     "output_type": "execute_result"
    }
   ],
   "source": [
    "# Format with Dictionary\n",
    "\n",
    "dicty = dict(brand=\"Ford\",model=\"Mustang\",year=1964)\n",
    "\n",
    "\"The brand is {brand}, the model is {model}, and the year is {year}\".format(**dicty)"
   ]
  },
  {
   "cell_type": "code",
   "execution_count": 3,
   "metadata": {},
   "outputs": [
    {
     "data": {
      "text/plain": [
       "'Hello...World!'"
      ]
     },
     "execution_count": 3,
     "metadata": {},
     "output_type": "execute_result"
    }
   ],
   "source": [
    "# Format shortcut\n",
    "\n",
    "stringy1 = \"Hello\"\n",
    "stringy2 = \"World!\"\n",
    "\n",
    "f'{stringy1}...{stringy2}'"
   ]
  },
  {
   "cell_type": "code",
   "execution_count": 63,
   "metadata": {},
   "outputs": [
    {
     "data": {
      "text/plain": [
       "['Hello', 'World!']"
      ]
     },
     "execution_count": 63,
     "metadata": {},
     "output_type": "execute_result"
    }
   ],
   "source": [
    "# Split\n",
    "\n",
    "stringy = \"Hello, World!\"\n",
    "\n",
    "a = stringy.split(',')"
   ]
  },
  {
   "cell_type": "code",
   "execution_count": 57,
   "metadata": {},
   "outputs": [
    {
     "data": {
      "text/plain": [
       "'Goodbye, World!'"
      ]
     },
     "execution_count": 57,
     "metadata": {},
     "output_type": "execute_result"
    }
   ],
   "source": [
    "# Replace\n",
    "\n",
    "stringy = \"Hello, World!\"\n",
    "\n",
    "stringy.replace('Hello','Goodbye')"
   ]
  },
  {
   "cell_type": "code",
   "execution_count": 30,
   "metadata": {},
   "outputs": [
    {
     "data": {
      "text/plain": [
       "'Matt Brown'"
      ]
     },
     "execution_count": 30,
     "metadata": {},
     "output_type": "execute_result"
    }
   ],
   "source": [
    "# Adding Strings\n",
    "\n",
    "first_name = \"Matt\"\n",
    "last_name = \"Brown\"\n",
    "\n",
    "first_name + ' ' + last_name\n",
    "'{a} {b}'.format(a=first_name,b=last_name)"
   ]
  },
  {
   "cell_type": "code",
   "execution_count": 33,
   "metadata": {},
   "outputs": [
    {
     "data": {
      "text/plain": [
       "'Hello, World!Hello, World!'"
      ]
     },
     "execution_count": 33,
     "metadata": {},
     "output_type": "execute_result"
    }
   ],
   "source": [
    "# Multiplying Strings\n",
    "\n",
    "stringy = \"Hello, World!\"\n",
    "\n",
    "stringy * 2"
   ]
  },
  {
   "cell_type": "code",
   "execution_count": 28,
   "metadata": {},
   "outputs": [
    {
     "data": {
      "text/plain": [
       "'Hello, World!'"
      ]
     },
     "execution_count": 28,
     "metadata": {},
     "output_type": "execute_result"
    }
   ],
   "source": [
    "# Upper, Lower, Title (Proper Casing)\n",
    "\n",
    "stringy = \"HeLLo, World!\"\n",
    "\n",
    "stringy.title()"
   ]
  },
  {
   "cell_type": "code",
   "execution_count": 29,
   "metadata": {},
   "outputs": [
    {
     "data": {
      "text/plain": [
       "'Hello, World!'"
      ]
     },
     "execution_count": 29,
     "metadata": {},
     "output_type": "execute_result"
    }
   ],
   "source": [
    "# Strip (removes from beginning or end)\n",
    "\n",
    "stringy = \" Hello, World! \"\n",
    "\n",
    "stringy.strip()"
   ]
  },
  {
   "cell_type": "code",
   "execution_count": 6,
   "metadata": {},
   "outputs": [
    {
     "data": {
      "text/plain": [
       "5"
      ]
     },
     "execution_count": 6,
     "metadata": {},
     "output_type": "execute_result"
    }
   ],
   "source": [
    "# Len (count characters including space)\n",
    "\n",
    "stringy = '123 4'\n",
    "\n",
    "len(stringy)"
   ]
  },
  {
   "cell_type": "code",
   "execution_count": 13,
   "metadata": {},
   "outputs": [
    {
     "data": {
      "text/plain": [
       "'MATT BROWN'"
      ]
     },
     "execution_count": 13,
     "metadata": {},
     "output_type": "execute_result"
    }
   ],
   "source": [
    "# Change Upper/Lower/Proper Case\n",
    "\n",
    "stringy = 'Matt BROWN'\n",
    "\n",
    "upper = stringy.upper()\n",
    "lower = stringy.lower()\n",
    "proper = stringy.title()\n",
    "\n",
    "upper"
   ]
  },
  {
   "cell_type": "code",
   "execution_count": 25,
   "metadata": {},
   "outputs": [
    {
     "data": {
      "text/plain": [
       "'a-b-c-d'"
      ]
     },
     "execution_count": 25,
     "metadata": {},
     "output_type": "execute_result"
    }
   ],
   "source": [
    "# Join\n",
    "\n",
    "stringy = 'abcd'\n",
    "\n",
    "'-'.join(stringy)"
   ]
  },
  {
   "cell_type": "markdown",
   "metadata": {},
   "source": [
    "# Numbers"
   ]
  },
  {
   "cell_type": "code",
   "execution_count": 77,
   "metadata": {},
   "outputs": [
    {
     "data": {
      "text/plain": [
       "[int, float, float, complex]"
      ]
     },
     "execution_count": 77,
     "metadata": {},
     "output_type": "execute_result"
    }
   ],
   "source": [
    "# Number Types\n",
    "\n",
    "a = 1    # int\n",
    "b = 2.8  # float (a number, positive or negative, containing one or more decimals.)\n",
    "c = 35e3 # float, 35 * (10**3)\n",
    "d = 1j   # complex\n",
    "\n",
    "[type(x) for x in [a,b,c,d]]"
   ]
  },
  {
   "cell_type": "code",
   "execution_count": 82,
   "metadata": {},
   "outputs": [
    {
     "data": {
      "text/plain": [
       "[123, 123.0, '123']"
      ]
     },
     "execution_count": 82,
     "metadata": {},
     "output_type": "execute_result"
    }
   ],
   "source": [
    "# Casting\n",
    "\n",
    "a = int('123')\n",
    "b = float(123)\n",
    "c = str(123)\n",
    "\n",
    "[a,b,c]"
   ]
  },
  {
   "cell_type": "markdown",
   "metadata": {},
   "source": [
    "# Lists"
   ]
  },
  {
   "cell_type": "code",
   "execution_count": 31,
   "metadata": {},
   "outputs": [
    {
     "data": {
      "text/plain": [
       "['one', 'three', 'five', 'seven', 'nine']"
      ]
     },
     "execution_count": 31,
     "metadata": {},
     "output_type": "execute_result"
    }
   ],
   "source": [
    "# Slicing a list\n",
    "\n",
    "listy = ['zero','one','two','three','four','five','six','seven','eight','nine','ten']\n",
    "\n",
    "listy[1:10:2] # Start:Stop:Step"
   ]
  },
  {
   "cell_type": "code",
   "execution_count": 8,
   "metadata": {},
   "outputs": [
    {
     "data": {
      "text/plain": [
       "[3, 4]"
      ]
     },
     "execution_count": 8,
     "metadata": {},
     "output_type": "execute_result"
    }
   ],
   "source": [
    "# Filter with List Comprehension\n",
    "\n",
    "listy = [1,2,3,4]\n",
    "\n",
    "[x for x in listy if x > 2]"
   ]
  },
  {
   "cell_type": "code",
   "execution_count": 25,
   "metadata": {},
   "outputs": [
    {
     "data": {
      "text/plain": [
       "[3, 4]"
      ]
     },
     "execution_count": 25,
     "metadata": {},
     "output_type": "execute_result"
    }
   ],
   "source": [
    "# Filter\n",
    "\n",
    "listy = [1,2,3,4]\n",
    "\n",
    "functiony = lambda number: number > 2\n",
    "\n",
    "list(filter(functiony,listy))"
   ]
  },
  {
   "cell_type": "code",
   "execution_count": 33,
   "metadata": {},
   "outputs": [
    {
     "data": {
      "text/plain": [
       "[0, 1, 2, 6, 3, 4, 5]"
      ]
     },
     "execution_count": 33,
     "metadata": {},
     "output_type": "execute_result"
    }
   ],
   "source": [
    "# Insert\n",
    "\n",
    "listy = [0,1,2,3,4,5]\n",
    "\n",
    "listy.insert(3,6) # Index, Value\n",
    "\n",
    "listy"
   ]
  },
  {
   "cell_type": "code",
   "execution_count": 36,
   "metadata": {},
   "outputs": [
    {
     "data": {
      "text/plain": [
       "[0, 1, 2, 3, 4, 5, 6]"
      ]
     },
     "execution_count": 36,
     "metadata": {},
     "output_type": "execute_result"
    }
   ],
   "source": [
    "# Append\n",
    "\n",
    "listy = [0,1,2,3,4,5]\n",
    "\n",
    "listy.append(6)\n",
    "\n",
    "listy"
   ]
  },
  {
   "cell_type": "code",
   "execution_count": 37,
   "metadata": {},
   "outputs": [
    {
     "data": {
      "text/plain": [
       "[1, 2, 3, 4, 5, 6, 7, 8]"
      ]
     },
     "execution_count": 37,
     "metadata": {},
     "output_type": "execute_result"
    }
   ],
   "source": [
    "# Extend\n",
    "\n",
    "listy = [1,2,3,4,5]\n",
    "\n",
    "listy.extend([6,7,8])\n",
    "\n",
    "listy"
   ]
  },
  {
   "cell_type": "code",
   "execution_count": 4,
   "metadata": {},
   "outputs": [
    {
     "data": {
      "text/plain": [
       "<map at 0x103332a50>"
      ]
     },
     "execution_count": 4,
     "metadata": {},
     "output_type": "execute_result"
    }
   ],
   "source": [
    "# Update a list with Map()\n",
    "\n",
    "listy = ['this ', 'is ', 'a ', 'list ', 'of ', 'words  ']\n",
    "\n",
    "list(map(str.strip, listy))"
   ]
  },
  {
   "cell_type": "code",
   "execution_count": 37,
   "metadata": {},
   "outputs": [
    {
     "data": {
      "text/plain": [
       "[1, 2, 3, 4, 5]"
      ]
     },
     "execution_count": 37,
     "metadata": {},
     "output_type": "execute_result"
    }
   ],
   "source": [
    "# Remove Single Item\n",
    "\n",
    "listy = [1,2,3,4,5,'apple']\n",
    "\n",
    "listy.remove('apple')\n",
    "\n",
    "listy"
   ]
  },
  {
   "cell_type": "code",
   "execution_count": 40,
   "metadata": {},
   "outputs": [
    {
     "data": {
      "text/plain": [
       "[1, 4, 5]"
      ]
     },
     "execution_count": 40,
     "metadata": {},
     "output_type": "execute_result"
    }
   ],
   "source": [
    "# Remove Multiple Items\n",
    "\n",
    "listy = [1,2,3,4,5,'apple']\n",
    "\n",
    "[x for x in listy if x not in [2,3,'apple']]"
   ]
  },
  {
   "cell_type": "code",
   "execution_count": 38,
   "metadata": {},
   "outputs": [
    {
     "data": {
      "text/plain": [
       "[2, 3, 4, 5, 'apple']"
      ]
     },
     "execution_count": 38,
     "metadata": {},
     "output_type": "execute_result"
    }
   ],
   "source": [
    "# Pop (remove single item by index)\n",
    "\n",
    "listy = [1,2,3,4,5,'apple']\n",
    "\n",
    "listy.pop(0)\n",
    "\n",
    "listy"
   ]
  },
  {
   "cell_type": "code",
   "execution_count": 52,
   "metadata": {},
   "outputs": [
    {
     "data": {
      "text/plain": [
       "[2, 4, 'apple']"
      ]
     },
     "execution_count": 52,
     "metadata": {},
     "output_type": "execute_result"
    }
   ],
   "source": [
    "# Delete (remove multiple items by index start stop step)\n",
    "\n",
    "listy = [1,2,3,4,5,'apple']\n",
    "\n",
    "del listy[0:5:2] # Start:Stop:Step\n",
    "\n",
    "listy"
   ]
  },
  {
   "cell_type": "code",
   "execution_count": 55,
   "metadata": {},
   "outputs": [
    {
     "data": {
      "text/plain": [
       "[2, 5, 'apple']"
      ]
     },
     "execution_count": 55,
     "metadata": {},
     "output_type": "execute_result"
    }
   ],
   "source": [
    "# Delete (remove multiple items by index list)\n",
    "\n",
    "listy = [1,2,3,4,5,'apple']\n",
    "\n",
    "indexes = [0,2,3]\n",
    "\n",
    "for index in sorted(indexes, reverse=True):\n",
    "    del listy[index]\n",
    "    \n",
    "listy"
   ]
  },
  {
   "cell_type": "code",
   "execution_count": 57,
   "metadata": {},
   "outputs": [
    {
     "data": {
      "text/plain": [
       "[]"
      ]
     },
     "execution_count": 57,
     "metadata": {},
     "output_type": "execute_result"
    }
   ],
   "source": [
    "# Clear (deletes all values in list)\n",
    "\n",
    "listy = [1,2,3,4,5,'apple']\n",
    "\n",
    "listy.clear()\n",
    "\n",
    "listy"
   ]
  },
  {
   "cell_type": "code",
   "execution_count": 60,
   "metadata": {},
   "outputs": [
    {
     "name": "stdout",
     "output_type": "stream",
     "text": [
      "[1, 2, 3, 4, 5]\n",
      "[1, 2, 3, 4, 5, 'apple']\n"
     ]
    }
   ],
   "source": [
    "# Copy (lists change either if assigned so you must use copy to make new list independent)\n",
    "\n",
    "# Notice how listy2 changes becuase I removed apple from listy1\n",
    "\n",
    "listy1 = [1,2,3,4,5,'apple']\n",
    "\n",
    "listy2 = listy1\n",
    "\n",
    "listy1.remove('apple')\n",
    "\n",
    "print(listy2)\n",
    "\n",
    "# This doesn't happen if I use the .copy() method\n",
    "\n",
    "listy1 = [1,2,3,4,5,'apple']\n",
    "\n",
    "listy2 = listy1.copy()\n",
    "\n",
    "listy1.remove('apple')\n",
    "\n",
    "print(listy2)"
   ]
  },
  {
   "cell_type": "code",
   "execution_count": 69,
   "metadata": {},
   "outputs": [
    {
     "data": {
      "text/plain": [
       "[5, 4, 3, 2, 1]"
      ]
     },
     "execution_count": 69,
     "metadata": {},
     "output_type": "execute_result"
    }
   ],
   "source": [
    "# Sort\n",
    "\n",
    "listy = [5,3,2,4,1]\n",
    "\n",
    "listy.sort(reverse=True)\n",
    "\n",
    "listy"
   ]
  },
  {
   "cell_type": "code",
   "execution_count": 83,
   "metadata": {},
   "outputs": [
    {
     "data": {
      "text/plain": [
       "[1, 2, 3, 4, 5, 'blue', 'apple']"
      ]
     },
     "execution_count": 83,
     "metadata": {},
     "output_type": "execute_result"
    }
   ],
   "source": [
    "# Set (returns unique values in list)\n",
    "\n",
    "listy = [1,2,3,4,5,5,'blue','apple','apple']\n",
    "\n",
    "listy = set(listy)\n",
    "\n",
    "list(listy)"
   ]
  },
  {
   "cell_type": "code",
   "execution_count": 47,
   "metadata": {},
   "outputs": [
    {
     "data": {
      "text/plain": [
       "5"
      ]
     },
     "execution_count": 47,
     "metadata": {},
     "output_type": "execute_result"
    }
   ],
   "source": [
    "# Index (returns index of value)\n",
    "\n",
    "listy = [1,2,3,4,5,'apple']\n",
    "\n",
    "listy.index('apple')"
   ]
  },
  {
   "cell_type": "code",
   "execution_count": 90,
   "metadata": {},
   "outputs": [
    {
     "data": {
      "text/plain": [
       "[('a', 1), ('b', 2), ('c', 3), ('d', 4)]"
      ]
     },
     "execution_count": 90,
     "metadata": {},
     "output_type": "execute_result"
    }
   ],
   "source": [
    "# Zip\n",
    "\n",
    "listy1 = ['a','b','c','d']\n",
    "listy2 = [1,2,3,4]\n",
    "\n",
    "list(zip(listy1,listy2))"
   ]
  },
  {
   "cell_type": "code",
   "execution_count": 101,
   "metadata": {},
   "outputs": [
    {
     "data": {
      "text/plain": [
       "[(0, 1), (1, 2), (2, 3), (3, 4), (4, 5), (5, 'apple')]"
      ]
     },
     "execution_count": 101,
     "metadata": {},
     "output_type": "execute_result"
    }
   ],
   "source": [
    "# Enumerate (return list of tuples with (index,value))\n",
    "\n",
    "listy = [1,2,3,4,5,'apple']\n",
    "\n",
    "list(enumerate(listy))"
   ]
  },
  {
   "cell_type": "code",
   "execution_count": 110,
   "metadata": {},
   "outputs": [
    {
     "data": {
      "text/plain": [
       "[1, 2, 3, 4, 5, 6, 7, 8, 9]"
      ]
     },
     "execution_count": 110,
     "metadata": {},
     "output_type": "execute_result"
    }
   ],
   "source": [
    "# Flatten List of Lists\n",
    "\n",
    "listy = [[1, 2, 3], [4, 5, 6], [7], [8, 9]]\n",
    "\n",
    "[item for sublist in listy for item in sublist]"
   ]
  },
  {
   "cell_type": "code",
   "execution_count": 48,
   "metadata": {},
   "outputs": [
    {
     "data": {
      "text/plain": [
       "5"
      ]
     },
     "execution_count": 48,
     "metadata": {},
     "output_type": "execute_result"
    }
   ],
   "source": [
    "# Sum, Max, Min, Len\n",
    "\n",
    "listy = [1,2,3,4,5]\n",
    "\n",
    "sum(listy)\n",
    "max(listy)\n",
    "min(listy)\n",
    "len(listy)"
   ]
  },
  {
   "cell_type": "code",
   "execution_count": 22,
   "metadata": {},
   "outputs": [
    {
     "data": {
      "text/plain": [
       "[1, 2, 3, 4, 1, 2, 3, 4]"
      ]
     },
     "execution_count": 22,
     "metadata": {},
     "output_type": "execute_result"
    }
   ],
   "source": [
    "# Multiplying Lists\n",
    "\n",
    "listy = [1,2,3,4]\n",
    "\n",
    "listy * 2"
   ]
  },
  {
   "cell_type": "code",
   "execution_count": 24,
   "metadata": {},
   "outputs": [
    {
     "data": {
      "text/plain": [
       "'a-b-c-d'"
      ]
     },
     "execution_count": 24,
     "metadata": {},
     "output_type": "execute_result"
    }
   ],
   "source": [
    "# Join\n",
    "\n",
    "listy = ['a','b','c','d']\n",
    "\n",
    "'-'.join(listy)"
   ]
  },
  {
   "cell_type": "markdown",
   "metadata": {},
   "source": [
    "# Dictionaries"
   ]
  },
  {
   "cell_type": "code",
   "execution_count": 171,
   "metadata": {},
   "outputs": [
    {
     "data": {
      "text/plain": [
       "{'a': [1, 2, 3], 'b': [4, 5, 6], 'c': 'apple', 'd': (7, 8)}"
      ]
     },
     "execution_count": 171,
     "metadata": {},
     "output_type": "execute_result"
    }
   ],
   "source": [
    "# Create Dictionary\n",
    "\n",
    "dicty = {'a':[1,2,3],\n",
    "         'b':[4,5,6],\n",
    "         'c':'apple',\n",
    "         'd':(7,8)}\n",
    "\n",
    "dicty"
   ]
  },
  {
   "cell_type": "code",
   "execution_count": 41,
   "metadata": {},
   "outputs": [
    {
     "data": {
      "text/plain": [
       "{'brand': 'Ford', 'model': 'Mustang', 'year': 1964}"
      ]
     },
     "execution_count": 41,
     "metadata": {},
     "output_type": "execute_result"
    }
   ],
   "source": [
    "# Create Dictionary Using dict()\n",
    "\n",
    "dicty = dict(brand=\"Ford\", model=\"Mustang\", year=1964)\n",
    "\n",
    "dicty"
   ]
  },
  {
   "cell_type": "code",
   "execution_count": 197,
   "metadata": {},
   "outputs": [
    {
     "data": {
      "text/plain": [
       "{'a': 1, 'b': 2, 'c': 3}"
      ]
     },
     "execution_count": 197,
     "metadata": {},
     "output_type": "execute_result"
    }
   ],
   "source": [
    "# Create Dictionary From Two Lists\n",
    "\n",
    "keys = ['a', 'b', 'c']\n",
    "values = [1, 2, 3]\n",
    "\n",
    "dict(zip(keys, values))"
   ]
  },
  {
   "cell_type": "code",
   "execution_count": 183,
   "metadata": {},
   "outputs": [
    {
     "data": {
      "text/plain": [
       "{'key1': 1, 'key2': 1, 'key3': 1}"
      ]
     },
     "execution_count": 183,
     "metadata": {},
     "output_type": "execute_result"
    }
   ],
   "source": [
    "# Dictionaries - Create Dictionary Using fromkeys()\n",
    "\n",
    "x = ['key1', 'key2', 'key3']\n",
    "y = 1\n",
    "\n",
    "dict.fromkeys(x, y)"
   ]
  },
  {
   "cell_type": "code",
   "execution_count": 128,
   "metadata": {},
   "outputs": [
    {
     "data": {
      "text/plain": [
       "[1, 2, 3]"
      ]
     },
     "execution_count": 128,
     "metadata": {},
     "output_type": "execute_result"
    }
   ],
   "source": [
    "# Dictionaries - Slice Single Key\n",
    "\n",
    "dicty = {'a':[1,2,3],\n",
    "         'b':[4,5,6],\n",
    "         'c':'apple',\n",
    "         'd':(7,8)}\n",
    "\n",
    "dicty.get('a')\n",
    "dicty['a']"
   ]
  },
  {
   "cell_type": "code",
   "execution_count": 130,
   "metadata": {},
   "outputs": [
    {
     "data": {
      "text/plain": [
       "[[1, 2, 3], [4, 5, 6], 'apple']"
      ]
     },
     "execution_count": 130,
     "metadata": {},
     "output_type": "execute_result"
    }
   ],
   "source": [
    "# Dictionaries - Slice Multiple Keys\n",
    "\n",
    "dicty = {'a':[1,2,3],\n",
    "         'b':[4,5,6],\n",
    "         'c':'apple',\n",
    "         'd':(7,8)}\n",
    "\n",
    "[dicty[x] for x in ['a','b','c']]"
   ]
  },
  {
   "cell_type": "code",
   "execution_count": 9,
   "metadata": {},
   "outputs": [
    {
     "data": {
      "text/plain": [
       "[('a', [1, 2, 3]), ('b', [4, 5, 6]), ('c', 'apple'), ('d', (7, 8))]"
      ]
     },
     "execution_count": 9,
     "metadata": {},
     "output_type": "execute_result"
    }
   ],
   "source": [
    "# Dictionaries - Get All Key Value Pairs\n",
    "\n",
    "dicty = {'a':[1,2,3],\n",
    "         'b':[4,5,6],\n",
    "         'c':'apple',\n",
    "         'd':(7,8)}\n",
    "\n",
    "list(dicty.items())"
   ]
  },
  {
   "cell_type": "code",
   "execution_count": 136,
   "metadata": {},
   "outputs": [
    {
     "data": {
      "text/plain": [
       "['a', 'b', 'c', 'd']"
      ]
     },
     "execution_count": 136,
     "metadata": {},
     "output_type": "execute_result"
    }
   ],
   "source": [
    "# Dictionaries - Get All Keys\n",
    "\n",
    "dicty = {'a':[1,2,3],\n",
    "         'b':[4,5,6],\n",
    "         'c':'apple',\n",
    "         'd':(7,8)}\n",
    "\n",
    "list(dicty.keys())"
   ]
  },
  {
   "cell_type": "code",
   "execution_count": 8,
   "metadata": {},
   "outputs": [
    {
     "data": {
      "text/plain": [
       "[[1, 2, 3], [4, 5, 6], 'apple', (7, 8)]"
      ]
     },
     "execution_count": 8,
     "metadata": {},
     "output_type": "execute_result"
    }
   ],
   "source": [
    "# Dictionaries - Get All Values\n",
    "\n",
    "dicty = {'a':[1,2,3],\n",
    "         'b':[4,5,6],\n",
    "         'c':'apple',\n",
    "         'd':(7,8)}\n",
    "\n",
    "list(dicty.values())"
   ]
  },
  {
   "cell_type": "code",
   "execution_count": 169,
   "metadata": {},
   "outputs": [
    {
     "data": {
      "text/plain": [
       "[('a', [1, 2, 3]), ('b', [4, 5, 6]), ('c', 'apple'), ('d', (7, 8))]"
      ]
     },
     "execution_count": 169,
     "metadata": {},
     "output_type": "execute_result"
    }
   ],
   "source": [
    "# Dictionaries - Looping\n",
    "\n",
    "dicty = {'a':[1,2,3],\n",
    "         'b':[4,5,6],\n",
    "         'c':'apple',\n",
    "         'd':(7,8)}\n",
    "\n",
    "[(key,value) for key,value in dicty.items()]"
   ]
  },
  {
   "cell_type": "code",
   "execution_count": 34,
   "metadata": {},
   "outputs": [
    {
     "data": {
      "text/plain": [
       "'Hi my name is Matt and my age is 28'"
      ]
     },
     "execution_count": 34,
     "metadata": {},
     "output_type": "execute_result"
    }
   ],
   "source": [
    "# Dictionaries - Unpack Values Into String\n",
    "\n",
    "dicty = {'Name':'Matt',\n",
    "         'Age':28}\n",
    "\n",
    "\"Hi my name is {Name} and my age is {Age}\".format(**dicty)"
   ]
  },
  {
   "cell_type": "code",
   "execution_count": 175,
   "metadata": {},
   "outputs": [
    {
     "name": "stdout",
     "output_type": "stream",
     "text": [
      "apple\n",
      "{'a': [1, 2, 3], 'b': [4, 5, 6], 'c': 'apple', 'd': (7, 8), 'e': [9, 10, 11]}\n"
     ]
    }
   ],
   "source": [
    "# Dictionaries - Get value, if no value, add item\n",
    "\n",
    "dicty = {'a':[1,2,3],\n",
    "         'b':[4,5,6],\n",
    "         'c':'apple',\n",
    "         'd':(7,8)}\n",
    "\n",
    "print(dicty.setdefault(\"c\", [9,10,11])) # The key 'c' already exists so this prints 'apple'\n",
    "\n",
    "dicty.setdefault(\"e\", [9,10,11]) # The key 'e' does not already exist so it adds it to the dictionary\n",
    "\n",
    "print(dicty)"
   ]
  },
  {
   "cell_type": "code",
   "execution_count": 141,
   "metadata": {},
   "outputs": [
    {
     "data": {
      "text/plain": [
       "{'a': [1, 2, 3], 'b': [4, 5, 6], 'c': 'apple', 'd': (7, 8), 'e': [9, 10, 11]}"
      ]
     },
     "execution_count": 141,
     "metadata": {},
     "output_type": "execute_result"
    }
   ],
   "source": [
    "# Dictionaries - Add Items\n",
    "\n",
    "dicty = {'a':[1,2,3],\n",
    "         'b':[4,5,6],\n",
    "         'c':'apple',\n",
    "         'd':(7,8)}\n",
    "\n",
    "dicty['e'] = [9,10,11]\n",
    "\n",
    "dicty"
   ]
  },
  {
   "cell_type": "code",
   "execution_count": 157,
   "metadata": {},
   "outputs": [
    {
     "data": {
      "text/plain": [
       "{'a': [1, 2, 3], 'b': [4, 5, 6], 'c': 'apple', 'd': (7, 8), 'e': [9, 10, 11]}"
      ]
     },
     "execution_count": 157,
     "metadata": {},
     "output_type": "execute_result"
    }
   ],
   "source": [
    "# Dictionaries - Add Items Using Update\n",
    "\n",
    "dicty = {'a':[1,2,3],\n",
    "         'b':[4,5,6],\n",
    "         'c':'apple',\n",
    "         'd':(7,8)}\n",
    "\n",
    "dicty.update({'e':[9,10,11]})\n",
    "\n",
    "dicty"
   ]
  },
  {
   "cell_type": "code",
   "execution_count": 160,
   "metadata": {},
   "outputs": [
    {
     "data": {
      "text/plain": [
       "{'a': [1, 2, 3],\n",
       " 'b': [4, 5, 6],\n",
       " 'c': 'apple',\n",
       " 'd': (7, 8),\n",
       " 'e': [9, 10, 11],\n",
       " 'f': [12, 13, 14],\n",
       " 'g': 'orange',\n",
       " 'h': (15, 16)}"
      ]
     },
     "execution_count": 160,
     "metadata": {},
     "output_type": "execute_result"
    }
   ],
   "source": [
    "# Dictionaries - Merge Dictionaries\n",
    "\n",
    "dicty1 = {'a':[1,2,3],\n",
    "         'b':[4,5,6],\n",
    "         'c':'apple',\n",
    "         'd':(7,8)}\n",
    "\n",
    "dicty2 = {'e':[9,10,11],\n",
    "         'f':[12,13,14],\n",
    "         'g':'orange',\n",
    "         'h':(15,16)}\n",
    "\n",
    "{**dicty1, **dicty2}"
   ]
  },
  {
   "cell_type": "code",
   "execution_count": 151,
   "metadata": {},
   "outputs": [
    {
     "data": {
      "text/plain": [
       "{'a': [1, 2, 3], 'b': [4, 5, 6], 'c': 'apple'}"
      ]
     },
     "execution_count": 151,
     "metadata": {},
     "output_type": "execute_result"
    }
   ],
   "source": [
    "# Dictionaries - Delete Specific Key Value Pair\n",
    "\n",
    "dicty = {'a':[1,2,3],\n",
    "         'b':[4,5,6],\n",
    "         'c':'apple',\n",
    "         'd':(7,8)}\n",
    "\n",
    "dicty.pop('d')\n",
    "\n",
    "dicty"
   ]
  },
  {
   "cell_type": "code",
   "execution_count": 154,
   "metadata": {},
   "outputs": [
    {
     "data": {
      "text/plain": [
       "{'a': [1, 2, 3], 'b': [4, 5, 6], 'c': 'apple', 'd': (7, 8)}"
      ]
     },
     "execution_count": 154,
     "metadata": {},
     "output_type": "execute_result"
    }
   ],
   "source": [
    "# Dictionaries - Delete Last Inserted Key Value Pair\n",
    "\n",
    "dicty = {'a':[1,2,3],\n",
    "         'b':[4,5,6],\n",
    "         'c':'apple',\n",
    "         'd':(7,8)}\n",
    "\n",
    "dicty['e'] = [9,10,11]\n",
    "\n",
    "dicty.popitem()\n",
    "\n",
    "dicty"
   ]
  },
  {
   "cell_type": "code",
   "execution_count": 39,
   "metadata": {},
   "outputs": [
    {
     "ename": "NameError",
     "evalue": "name 'dicty' is not defined",
     "output_type": "error",
     "traceback": [
      "\u001b[0;31m---------------------------------------------------------------------------\u001b[0m",
      "\u001b[0;31mNameError\u001b[0m                                 Traceback (most recent call last)",
      "\u001b[0;32m<ipython-input-39-a960ea962a3d>\u001b[0m in \u001b[0;36m<module>\u001b[0;34m\u001b[0m\n\u001b[1;32m      8\u001b[0m \u001b[0;32mdel\u001b[0m \u001b[0mdicty\u001b[0m\u001b[0;34m\u001b[0m\u001b[0;34m\u001b[0m\u001b[0m\n\u001b[1;32m      9\u001b[0m \u001b[0;34m\u001b[0m\u001b[0m\n\u001b[0;32m---> 10\u001b[0;31m \u001b[0mdicty\u001b[0m\u001b[0;34m\u001b[0m\u001b[0;34m\u001b[0m\u001b[0m\n\u001b[0m",
      "\u001b[0;31mNameError\u001b[0m: name 'dicty' is not defined"
     ]
    }
   ],
   "source": [
    "# Dictionaries - Delete Entire Dictionary\n",
    "\n",
    "dicty = {'a':[1,2,3],\n",
    "         'b':[4,5,6],\n",
    "         'c':'apple',\n",
    "         'd':(7,8)}\n",
    "\n",
    "del dicty\n",
    "\n",
    "dicty"
   ]
  },
  {
   "cell_type": "code",
   "execution_count": null,
   "metadata": {
    "collapsed": true
   },
   "outputs": [],
   "source": [
    "# Determine number of key value pairs (len)\n",
    "\n",
    "dicty = {'a':[1,2,3],\n",
    "         'b':[4,5,6],\n",
    "         'c':'apple',\n",
    "         'd':(7,8)}\n",
    "\n",
    "len(dicty)"
   ]
  },
  {
   "cell_type": "markdown",
   "metadata": {},
   "source": [
    "# Tuples"
   ]
  },
  {
   "cell_type": "code",
   "execution_count": 259,
   "metadata": {},
   "outputs": [
    {
     "data": {
      "text/plain": [
       "(1, 2, 3, 'a', 'b', 'c')"
      ]
     },
     "execution_count": 259,
     "metadata": {},
     "output_type": "execute_result"
    }
   ],
   "source": [
    "# Create Tuple\n",
    "\n",
    "tuple1 = (1,2,3,'a','b','c')\n",
    "\n",
    "tuple2 = tuple([1,2,3,'a','b','c'])\n",
    "          \n",
    "tuple1"
   ]
  },
  {
   "cell_type": "code",
   "execution_count": 247,
   "metadata": {},
   "outputs": [
    {
     "data": {
      "text/plain": [
       "(1, 3, 'b')"
      ]
     },
     "execution_count": 247,
     "metadata": {},
     "output_type": "execute_result"
    }
   ],
   "source": [
    "# Slicing\n",
    "\n",
    "tupley = (1,2,3,'a','b','c')\n",
    "\n",
    "tupley[0:6:2] # Start:Stop:Step"
   ]
  },
  {
   "cell_type": "code",
   "execution_count": 246,
   "metadata": {},
   "outputs": [
    {
     "data": {
      "text/plain": [
       "('a', 'b', 'c')"
      ]
     },
     "execution_count": 246,
     "metadata": {},
     "output_type": "execute_result"
    }
   ],
   "source": [
    "# Filtering\n",
    "\n",
    "tupley = (1,2,3,'a','b','c')\n",
    "\n",
    "tuple([x for x in tupley if isinstance(x, str)]) # Filters for string values"
   ]
  },
  {
   "cell_type": "code",
   "execution_count": 257,
   "metadata": {},
   "outputs": [
    {
     "data": {
      "text/plain": [
       "3"
      ]
     },
     "execution_count": 257,
     "metadata": {},
     "output_type": "execute_result"
    }
   ],
   "source": [
    "# Return Index of Value\n",
    "\n",
    "tupley = (1,2,3,'a','b','c')\n",
    "\n",
    "tupley.index('a')"
   ]
  },
  {
   "cell_type": "code",
   "execution_count": 254,
   "metadata": {},
   "outputs": [
    {
     "data": {
      "text/plain": [
       "3"
      ]
     },
     "execution_count": 254,
     "metadata": {},
     "output_type": "execute_result"
    }
   ],
   "source": [
    "# Count Number of Times Value Appears\n",
    "\n",
    "tupley = (1,2,3,'a','b','c','a','b','a')\n",
    "\n",
    "tupley.count('a')"
   ]
  },
  {
   "cell_type": "code",
   "execution_count": 39,
   "metadata": {},
   "outputs": [
    {
     "ename": "TypeError",
     "evalue": "'tuple' object does not support item assignment",
     "output_type": "error",
     "traceback": [
      "\u001b[0;31m---------------------------------------------------------------------------\u001b[0m",
      "\u001b[0;31mTypeError\u001b[0m                                 Traceback (most recent call last)",
      "\u001b[0;32m<ipython-input-39-c2c043ef487a>\u001b[0m in \u001b[0;36m<module>\u001b[0;34m()\u001b[0m\n\u001b[1;32m      3\u001b[0m \u001b[0mtupley\u001b[0m \u001b[0;34m=\u001b[0m \u001b[0;34m(\u001b[0m\u001b[0;36m1\u001b[0m\u001b[0;34m,\u001b[0m\u001b[0;36m2\u001b[0m\u001b[0;34m,\u001b[0m\u001b[0;36m3\u001b[0m\u001b[0;34m,\u001b[0m\u001b[0;34m'a'\u001b[0m\u001b[0;34m,\u001b[0m\u001b[0;34m'b'\u001b[0m\u001b[0;34m,\u001b[0m\u001b[0;34m'c'\u001b[0m\u001b[0;34m)\u001b[0m\u001b[0;34m\u001b[0m\u001b[0;34m\u001b[0m\u001b[0m\n\u001b[1;32m      4\u001b[0m \u001b[0;34m\u001b[0m\u001b[0m\n\u001b[0;32m----> 5\u001b[0;31m \u001b[0mtupley\u001b[0m\u001b[0;34m[\u001b[0m\u001b[0;36m0\u001b[0m\u001b[0;34m]\u001b[0m \u001b[0;34m=\u001b[0m \u001b[0;36m0\u001b[0m\u001b[0;34m\u001b[0m\u001b[0;34m\u001b[0m\u001b[0m\n\u001b[0m",
      "\u001b[0;31mTypeError\u001b[0m: 'tuple' object does not support item assignment"
     ]
    }
   ],
   "source": [
    "# Adding/Updating (Hint: Not possible with tuples)\n",
    "\n",
    "tupley = (1,2,3,'a','b','c')\n",
    "\n",
    "tupley[0] = 0"
   ]
  },
  {
   "cell_type": "markdown",
   "metadata": {},
   "source": [
    "# Sets"
   ]
  },
  {
   "cell_type": "code",
   "execution_count": 264,
   "metadata": {},
   "outputs": [
    {
     "data": {
      "text/plain": [
       "{1, 2, 3, 'a', 'b', 'c'}"
      ]
     },
     "execution_count": 264,
     "metadata": {},
     "output_type": "execute_result"
    }
   ],
   "source": [
    "# Creating a Set (no index but is changeable)\n",
    "\n",
    "sety1 = {1,2,3,'a','b','c'}\n",
    "\n",
    "sety2 = set([1,2,3,'a','b','c'])\n",
    "\n",
    "sety1"
   ]
  },
  {
   "cell_type": "code",
   "execution_count": 268,
   "metadata": {},
   "outputs": [
    {
     "data": {
      "text/plain": [
       "{1, 2, 3, 5, 'a', 'b', 'c'}"
      ]
     },
     "execution_count": 268,
     "metadata": {},
     "output_type": "execute_result"
    }
   ],
   "source": [
    "# Adding value to a Set (no index)\n",
    "\n",
    "sety1 = {1,2,3,'a','b','c'}\n",
    "\n",
    "sety1.add(5)\n",
    "\n",
    "sety1"
   ]
  },
  {
   "cell_type": "code",
   "execution_count": 272,
   "metadata": {},
   "outputs": [
    {
     "data": {
      "text/plain": [
       "{1, 2, 3, 'b', 'c'}"
      ]
     },
     "execution_count": 272,
     "metadata": {},
     "output_type": "execute_result"
    }
   ],
   "source": [
    "# Removing value from a Set (no index)\n",
    "\n",
    "sety1 = {1,2,3,'a','b','c'}\n",
    "\n",
    "sety1.remove('a')\n",
    "\n",
    "sety1"
   ]
  },
  {
   "cell_type": "code",
   "execution_count": 279,
   "metadata": {},
   "outputs": [
    {
     "data": {
      "text/plain": [
       "{1, 2, 3, 4, 5, 6, 'a', 'b', 'c', 'd', 'e', 'f'}"
      ]
     },
     "execution_count": 279,
     "metadata": {},
     "output_type": "execute_result"
    }
   ],
   "source": [
    "# Union (Inner Join, Gets Unique List of Common Values Between The Two)\n",
    "\n",
    "sety1 = {1,2,3,'a','b','c'}\n",
    "sety2 = {4,5,6,'d','e','f','a',1,3}\n",
    "\n",
    "sety1.union(sety2)"
   ]
  },
  {
   "cell_type": "code",
   "execution_count": 297,
   "metadata": {},
   "outputs": [
    {
     "data": {
      "text/plain": [
       "{2, 4, 5, 6, 'b', 'c', 'd', 'e', 'f'}"
      ]
     },
     "execution_count": 297,
     "metadata": {},
     "output_type": "execute_result"
    }
   ],
   "source": [
    "# Difference\n",
    "\n",
    "sety1 = {1,2,3,'a','b','c'}\n",
    "sety2 = {4,5,6,'d','e','f','a',1,3}\n",
    "\n",
    "sety1.difference(sety2) # Returns unique values in sety1\n",
    "sety1.symmetric_difference(sety2) # Returns unique values from both sets"
   ]
  },
  {
   "cell_type": "code",
   "execution_count": 58,
   "metadata": {},
   "outputs": [
    {
     "data": {
      "text/plain": [
       "{1, 3, 'a'}"
      ]
     },
     "execution_count": 58,
     "metadata": {},
     "output_type": "execute_result"
    }
   ],
   "source": [
    "# Intersection (Returns common values between two sets)\n",
    "\n",
    "sety1 = {1,2,3,'a','b','c'}\n",
    "sety2 = {4,5,6,'d','e','f','a',1,3}\n",
    "\n",
    "sety1.intersection(sety2)"
   ]
  },
  {
   "cell_type": "markdown",
   "metadata": {},
   "source": [
    "# Iterators"
   ]
  },
  {
   "cell_type": "code",
   "execution_count": 9,
   "metadata": {},
   "outputs": [
    {
     "name": "stdout",
     "output_type": "stream",
     "text": [
      "apple\n",
      "banana\n",
      "cherry\n"
     ]
    }
   ],
   "source": [
    "tuply = (\"apple\", \"banana\", \"cherry\")\n",
    "iterator = iter(tuply)\n",
    "\n",
    "print(next(iterator))\n",
    "print(next(iterator))\n",
    "print(next(iterator))"
   ]
  },
  {
   "cell_type": "markdown",
   "metadata": {},
   "source": [
    "# Error Catching (Try...Except)"
   ]
  },
  {
   "cell_type": "code",
   "execution_count": 94,
   "metadata": {},
   "outputs": [
    {
     "name": "stdout",
     "output_type": "stream",
     "text": [
      "An exception occurred\n"
     ]
    }
   ],
   "source": [
    "# Single Exception\n",
    "\n",
    "try:\n",
    "  print(x)\n",
    "except:\n",
    "  print(\"An exception occurred\")"
   ]
  },
  {
   "cell_type": "code",
   "execution_count": null,
   "metadata": {
    "collapsed": true
   },
   "outputs": [],
   "source": [
    "# Many Exceptions\n",
    "\n",
    "# No error\n",
    "a = 'hello'\n",
    "\n",
    "try:\n",
    "  print(a)\n",
    "except:\n",
    "  print(\"Something went wrong\")\n",
    "else:\n",
    "  print(\"Nothing went wrong\") \n",
    "finally:\n",
    "  print(\"The 'try except' is finished\")\n",
    "\n",
    "# Error\n",
    "del a\n",
    "\n",
    "try:\n",
    "  print(a)\n",
    "except:\n",
    "  print(\"Something went wrong\")\n",
    "else:\n",
    "  print(\"Nothing went wrong\")\n",
    "finally:\n",
    "  print(\"The 'try except' is finished\")"
   ]
  },
  {
   "cell_type": "markdown",
   "metadata": {},
   "source": [
    "# Taking Input"
   ]
  },
  {
   "cell_type": "code",
   "execution_count": 1,
   "metadata": {
    "scrolled": true
   },
   "outputs": [
    {
     "name": "stdout",
     "output_type": "stream",
     "text": [
      "Enter your name:\n",
      "Matt\n",
      "Hello, Matt\n"
     ]
    }
   ],
   "source": [
    "print('Enter your name:')\n",
    "x = input()\n",
    "print('Hello, ' + x)"
   ]
  },
  {
   "cell_type": "markdown",
   "metadata": {},
   "source": [
    "# Functions"
   ]
  },
  {
   "cell_type": "code",
   "execution_count": 121,
   "metadata": {},
   "outputs": [
    {
     "name": "stdout",
     "output_type": "stream",
     "text": [
      "Hello, my name is Matt\n"
     ]
    }
   ],
   "source": [
    "# Define a Function (print)\n",
    "\n",
    "def my_function(name):\n",
    "  print(\"Hello, my name is {}\".format(name))\n",
    "\n",
    "my_function('Matt')"
   ]
  },
  {
   "cell_type": "code",
   "execution_count": 122,
   "metadata": {},
   "outputs": [
    {
     "data": {
      "text/plain": [
       "3"
      ]
     },
     "execution_count": 122,
     "metadata": {},
     "output_type": "execute_result"
    }
   ],
   "source": [
    "# Return Value From Function\n",
    "\n",
    "def my_function(a,b):\n",
    "  return a + b\n",
    "\n",
    "my_function(1,2)"
   ]
  },
  {
   "cell_type": "code",
   "execution_count": 120,
   "metadata": {},
   "outputs": [
    {
     "name": "stdout",
     "output_type": "stream",
     "text": [
      "Hello, my name is Matt\n"
     ]
    }
   ],
   "source": [
    "# Set Default Value of a Function\n",
    "\n",
    "def my_function(name='Matt'):\n",
    "  print(\"Hello, my name is {}\".format(name))\n",
    "\n",
    "my_function()"
   ]
  },
  {
   "cell_type": "code",
   "execution_count": 129,
   "metadata": {},
   "outputs": [
    {
     "name": "stdout",
     "output_type": "stream",
     "text": [
      "Help on function my_function in module __main__:\n",
      "\n",
      "my_function(name)\n",
      "    Prints hello, my name is (whatever name you put in).\n",
      "\n"
     ]
    }
   ],
   "source": [
    "# Define What Function Does\n",
    "\n",
    "def my_function(name):\n",
    "  '''Prints hello, my name is (whatever name you put in).'''\n",
    "  print(\"Hello, my name is {}\".format(name))\n",
    "\n",
    "help(my_function)"
   ]
  },
  {
   "cell_type": "code",
   "execution_count": 6,
   "metadata": {},
   "outputs": [
    {
     "name": "stdout",
     "output_type": "stream",
     "text": [
      "Hello, my name is Matt\n"
     ]
    }
   ],
   "source": [
    "# Assign Function To Variable To Create Object\n",
    "\n",
    "def my_function(name):\n",
    "  '''Prints hello, my name is (whatever name you put in).'''\n",
    "  print(\"Hello, my name is {}\".format(name))\n",
    "    \n",
    "a = my_function\n",
    "\n",
    "a('Matt')"
   ]
  },
  {
   "cell_type": "code",
   "execution_count": 7,
   "metadata": {},
   "outputs": [
    {
     "data": {
      "text/plain": [
       "15"
      ]
     },
     "execution_count": 7,
     "metadata": {},
     "output_type": "execute_result"
    }
   ],
   "source": [
    "# Nested Functions\n",
    "\n",
    "def make_multiplier_of(n):\n",
    "    def multiplier(x):\n",
    "        return x * n\n",
    "    return multiplier\n",
    "\n",
    "make_multiplier_of(3)(5)"
   ]
  },
  {
   "cell_type": "markdown",
   "metadata": {},
   "source": [
    "# Lambda"
   ]
  },
  {
   "cell_type": "code",
   "execution_count": 134,
   "metadata": {},
   "outputs": [
    {
     "data": {
      "text/plain": [
       "15"
      ]
     },
     "execution_count": 134,
     "metadata": {},
     "output_type": "execute_result"
    }
   ],
   "source": [
    "# Create single variable lambda function (Use lambda functions when an anonymous function is required for a short period of time.)\n",
    "\n",
    "lamby = lambda a: a + 10\n",
    "\n",
    "lamby(5)"
   ]
  },
  {
   "cell_type": "code",
   "execution_count": 136,
   "metadata": {},
   "outputs": [
    {
     "data": {
      "text/plain": [
       "3"
      ]
     },
     "execution_count": 136,
     "metadata": {},
     "output_type": "execute_result"
    }
   ],
   "source": [
    "# Create multi variable lambda function\n",
    "\n",
    "lamby = lambda a,b: a + b\n",
    "\n",
    "lamby(1,2)"
   ]
  },
  {
   "cell_type": "code",
   "execution_count": 140,
   "metadata": {},
   "outputs": [
    {
     "data": {
      "text/plain": [
       "33"
      ]
     },
     "execution_count": 140,
     "metadata": {},
     "output_type": "execute_result"
    }
   ],
   "source": [
    "# Lambda Inside Function (allows you to create a function from a function)\n",
    "\n",
    "def my_function(n):\n",
    "  return lambda a: a * n\n",
    "\n",
    "my_doubler = my_function(2)\n",
    "my_tripler = my_function(3)\n",
    "\n",
    "my_doubler(11)\n",
    "my_tripler(11)"
   ]
  },
  {
   "cell_type": "markdown",
   "metadata": {},
   "source": [
    "# [Classes & Objects](https://campus.datacamp.com/courses/object-oriented-programming-in-python)"
   ]
  },
  {
   "cell_type": "code",
   "execution_count": 12,
   "metadata": {},
   "outputs": [
    {
     "data": {
      "text/plain": [
       "<__main__.Person at 0x106e23160>"
      ]
     },
     "execution_count": 12,
     "metadata": {},
     "output_type": "execute_result"
    }
   ],
   "source": [
    "# Create a class (aka cookie cutter)\n",
    "\n",
    "class Person():\n",
    "    pass\n",
    "\n",
    "Person()"
   ]
  },
  {
   "cell_type": "code",
   "execution_count": 15,
   "metadata": {},
   "outputs": [
    {
     "data": {
      "text/plain": [
       "'Human'"
      ]
     },
     "execution_count": 15,
     "metadata": {},
     "output_type": "execute_result"
    }
   ],
   "source": [
    "# Add fixed attribute to class\n",
    "\n",
    "class Person():\n",
    "    \n",
    "    species = 'Human' # fixed attribute (i.e. pre-assigned, still can be chaged)\n",
    "\n",
    "Person().species"
   ]
  },
  {
   "cell_type": "code",
   "execution_count": 16,
   "metadata": {},
   "outputs": [
    {
     "data": {
      "text/plain": [
       "'Matt'"
      ]
     },
     "execution_count": 16,
     "metadata": {},
     "output_type": "execute_result"
    }
   ],
   "source": [
    "# Add constructor (__init__) with instance attributes to class\n",
    "\n",
    "class Person:\n",
    "  \n",
    "    # constructor\n",
    "    def __init__(self,name,age):\n",
    "        self.a = name # isntance attribute\n",
    "        self.b = age\n",
    "    \n",
    "Person('Matt',25).a"
   ]
  },
  {
   "cell_type": "code",
   "execution_count": 1,
   "metadata": {},
   "outputs": [
    {
     "data": {
      "text/plain": [
       "'Matt'"
      ]
     },
     "execution_count": 1,
     "metadata": {},
     "output_type": "execute_result"
    }
   ],
   "source": [
    "# Create Object (aka cookie made from cookie cutter)\n",
    "\n",
    "class Person:\n",
    "    \n",
    "    # fixed attribute (i.e. pre-assigned, still can be chaged)\n",
    "    species = 'Human'\n",
    "\n",
    "    # constructor\n",
    "    def __init__(self,name,age):\n",
    "        self.name = name # instance attribute\n",
    "        self.age = age\n",
    "    \n",
    "matt = Person('Matt',25) # object\n",
    "\n",
    "matt.name"
   ]
  },
  {
   "cell_type": "code",
   "execution_count": 2,
   "metadata": {},
   "outputs": [
    {
     "name": "stdout",
     "output_type": "stream",
     "text": [
      "Hello World\n"
     ]
    }
   ],
   "source": [
    "# Create Method (functions within a class)\n",
    "\n",
    "class Person:\n",
    "  \n",
    "  # Method\n",
    "  def print_hello_world(self):\n",
    "    print('Hello World')\n",
    "\n",
    "Person().print_hello_world()"
   ]
  },
  {
   "cell_type": "code",
   "execution_count": 3,
   "metadata": {},
   "outputs": [
    {
     "name": "stdout",
     "output_type": "stream",
     "text": [
      "My name is Matt and my age is 29\n"
     ]
    }
   ],
   "source": [
    "# Create Method that references constructor\n",
    "\n",
    "class Person:\n",
    "  \n",
    "  # Constructor\n",
    "  def __init__(self, name, age):\n",
    "    self.name = name #Instance attribute\n",
    "    self.age = age\n",
    "    \n",
    "  def print_name_and_age(self):\n",
    "    print(f'My name is {self.name} and my age is {self.age}')\n",
    "    \n",
    "Person('Matt',29).print_name_and_age()"
   ]
  },
  {
   "cell_type": "code",
   "execution_count": 155,
   "metadata": {},
   "outputs": [
    {
     "data": {
      "text/plain": [
       "'Matt'"
      ]
     },
     "execution_count": 155,
     "metadata": {},
     "output_type": "execute_result"
    }
   ],
   "source": [
    "# Update attributes in an object\n",
    "\n",
    "class Person:\n",
    "  def __init__(self, name, age):\n",
    "    self.name = name\n",
    "    self.age = age\n",
    "    \n",
    "  def print_name_and_age(self):\n",
    "    print('My name is {} and my age is {}'.format(self.name,self.age))\n",
    "\n",
    "person_1_object = Person(\"John\", 36)\n",
    "\n",
    "person_1_object.name = 'Matt'\n",
    "\n",
    "person_1_object.name"
   ]
  },
  {
   "cell_type": "code",
   "execution_count": 1,
   "metadata": {},
   "outputs": [
    {
     "ename": "AttributeError",
     "evalue": "'Person' object has no attribute 'name'",
     "output_type": "error",
     "traceback": [
      "\u001b[0;31m---------------------------------------------------------------------------\u001b[0m",
      "\u001b[0;31mAttributeError\u001b[0m                            Traceback (most recent call last)",
      "\u001b[0;32m<ipython-input-1-d29cc1347eff>\u001b[0m in \u001b[0;36m<module>\u001b[0;34m()\u001b[0m\n\u001b[1;32m     13\u001b[0m \u001b[0;32mdel\u001b[0m \u001b[0mperson_1_object\u001b[0m\u001b[0;34m.\u001b[0m\u001b[0mname\u001b[0m\u001b[0;34m\u001b[0m\u001b[0;34m\u001b[0m\u001b[0m\n\u001b[1;32m     14\u001b[0m \u001b[0;34m\u001b[0m\u001b[0m\n\u001b[0;32m---> 15\u001b[0;31m \u001b[0mperson_1_object\u001b[0m\u001b[0;34m.\u001b[0m\u001b[0mname\u001b[0m\u001b[0;34m\u001b[0m\u001b[0;34m\u001b[0m\u001b[0m\n\u001b[0m",
      "\u001b[0;31mAttributeError\u001b[0m: 'Person' object has no attribute 'name'"
     ]
    }
   ],
   "source": [
    "# Delete attribute in an object\n",
    "\n",
    "class Person:\n",
    "  def __init__(self, name, age):\n",
    "    self.name = name\n",
    "    self.age = age\n",
    "    \n",
    "  def print_name_and_age(self):\n",
    "    print('My name is {} and my age is {}'.format(self.name,self.age))\n",
    "\n",
    "person_1_object = Person(\"John\", 36)\n",
    "\n",
    "del person_1_object.name\n",
    "\n",
    "person_1_object.name"
   ]
  },
  {
   "cell_type": "code",
   "execution_count": 3,
   "metadata": {},
   "outputs": [
    {
     "name": "stdout",
     "output_type": "stream",
     "text": [
      "Hello World!\n"
     ]
    }
   ],
   "source": [
    "# Use self to use the result of one method as an input to another\n",
    "\n",
    "class Classy:\n",
    "    def message(self):\n",
    "        self.print_message(\"Hello World!\")\n",
    "    \n",
    "    def print_message(self,message):\n",
    "        print(message)\n",
    "    \n",
    "\n",
    "Classy().message()"
   ]
  },
  {
   "cell_type": "code",
   "execution_count": 5,
   "metadata": {},
   "outputs": [
    {
     "data": {
      "text/plain": [
       "'Human'"
      ]
     },
     "execution_count": 5,
     "metadata": {},
     "output_type": "execute_result"
    }
   ],
   "source": [
    "# Inheritance\n",
    "\n",
    "# Create a class Animal\n",
    "class Animal:\n",
    "\tdef __init__(self, name):\n",
    "\t\tself.name = name\n",
    "\n",
    "# Create a class Mammal, which inherits from Animal\n",
    "class Mammal(Animal):\n",
    "\tdef __init__(self, name, animal_type):\n",
    "\t\tself.animal_type = animal_type\n",
    "\n",
    "Mammal('Matt','Human').animal_type"
   ]
  },
  {
   "cell_type": "markdown",
   "metadata": {},
   "source": [
    "# Modules"
   ]
  },
  {
   "cell_type": "code",
   "execution_count": 10,
   "metadata": {
    "collapsed": true
   },
   "outputs": [],
   "source": [
    "# Saved the below script as mymodule.py\n",
    "\n",
    "def greeting(name):\n",
    "  print(\"Hello, \" + name)\n",
    "\n",
    "person1 = {\n",
    "  \"name\": \"John\",\n",
    "  \"age\": 36,\n",
    "  \"country\": \"Norway\"}"
   ]
  },
  {
   "cell_type": "code",
   "execution_count": 20,
   "metadata": {},
   "outputs": [
    {
     "data": {
      "text/plain": [
       "36"
      ]
     },
     "execution_count": 20,
     "metadata": {},
     "output_type": "execute_result"
    }
   ],
   "source": [
    "import sys\n",
    "from mymodule import person1\n",
    "\n",
    "# This makes all the files in the modules folder to be able to be imported\n",
    "sys.path.insert(0,'file_path') \n",
    "\n",
    "person1[\"age\"]"
   ]
  },
  {
   "cell_type": "code",
   "execution_count": 65,
   "metadata": {},
   "outputs": [
    {
     "ename": "ImportError",
     "evalue": "cannot import name 'greeting' from 'mymodule' (/Users/mattbt/Desktop/Data Science Toolbelt V2/Modules/mymodule.py)",
     "output_type": "error",
     "traceback": [
      "\u001b[0;31m---------------------------------------------------------------------------\u001b[0m",
      "\u001b[0;31mImportError\u001b[0m                               Traceback (most recent call last)",
      "\u001b[0;32m<ipython-input-65-67b80eef516c>\u001b[0m in \u001b[0;36m<module>\u001b[0;34m()\u001b[0m\n\u001b[1;32m      1\u001b[0m \u001b[0;32mimport\u001b[0m \u001b[0msys\u001b[0m\u001b[0;34m\u001b[0m\u001b[0m\n\u001b[0;32m----> 2\u001b[0;31m \u001b[0;32mfrom\u001b[0m \u001b[0mmymodule\u001b[0m \u001b[0;32mimport\u001b[0m \u001b[0mgreeting\u001b[0m\u001b[0;34m\u001b[0m\u001b[0m\n\u001b[0m\u001b[1;32m      3\u001b[0m \u001b[0;34m\u001b[0m\u001b[0m\n\u001b[1;32m      4\u001b[0m \u001b[0;31m# This makes all the files in the modules folder to be able to be imported\u001b[0m\u001b[0;34m\u001b[0m\u001b[0;34m\u001b[0m\u001b[0m\n\u001b[1;32m      5\u001b[0m \u001b[0msys\u001b[0m\u001b[0;34m.\u001b[0m\u001b[0mpath\u001b[0m\u001b[0;34m.\u001b[0m\u001b[0minsert\u001b[0m\u001b[0;34m(\u001b[0m\u001b[0;36m0\u001b[0m\u001b[0;34m,\u001b[0m\u001b[0;34m'/Users/mattbt/Desktop/Data Science Toolbelt V2/Modules/'\u001b[0m\u001b[0;34m)\u001b[0m\u001b[0;34m\u001b[0m\u001b[0m\n",
      "\u001b[0;31mImportError\u001b[0m: cannot import name 'greeting' from 'mymodule' (/Users/mattbt/Desktop/Data Science Toolbelt V2/Modules/mymodule.py)"
     ]
    }
   ],
   "source": [
    "import sys\n",
    "from mymodule import greeting\n",
    "\n",
    "# This makes all the files in the modules folder to be able to be imported\n",
    "sys.path.insert(0,'file_path') \n",
    "\n",
    "greeting('Matt')"
   ]
  },
  {
   "cell_type": "markdown",
   "metadata": {},
   "source": []
  },
  {
   "cell_type": "markdown",
   "metadata": {},
   "source": [
    "# File Handling"
   ]
  },
  {
   "cell_type": "code",
   "execution_count": 31,
   "metadata": {},
   "outputs": [
    {
     "ename": "FileExistsError",
     "evalue": "[Errno 17] File exists: 'demofile.txt'",
     "output_type": "error",
     "traceback": [
      "\u001b[0;31m---------------------------------------------------------------------------\u001b[0m",
      "\u001b[0;31mFileExistsError\u001b[0m                           Traceback (most recent call last)",
      "\u001b[0;32m<ipython-input-31-e7a6131b766d>\u001b[0m in \u001b[0;36m<module>\u001b[0;34m()\u001b[0m\n\u001b[1;32m      1\u001b[0m \u001b[0;31m# Create a File\u001b[0m\u001b[0;34m\u001b[0m\u001b[0;34m\u001b[0m\u001b[0m\n\u001b[1;32m      2\u001b[0m \u001b[0;34m\u001b[0m\u001b[0m\n\u001b[0;32m----> 3\u001b[0;31m \u001b[0mfile\u001b[0m \u001b[0;34m=\u001b[0m \u001b[0mopen\u001b[0m\u001b[0;34m(\u001b[0m\u001b[0;34m\"demofile.txt\"\u001b[0m\u001b[0;34m,\u001b[0m \u001b[0;34m\"x\"\u001b[0m\u001b[0;34m)\u001b[0m\u001b[0;34m\u001b[0m\u001b[0m\n\u001b[0m",
      "\u001b[0;31mFileExistsError\u001b[0m: [Errno 17] File exists: 'demofile.txt'"
     ]
    }
   ],
   "source": [
    "# Create a File\n",
    "\n",
    "file = open(\"demofile.txt\", \"x\")"
   ]
  },
  {
   "cell_type": "code",
   "execution_count": 33,
   "metadata": {},
   "outputs": [
    {
     "data": {
      "text/plain": [
       "31"
      ]
     },
     "execution_count": 33,
     "metadata": {},
     "output_type": "execute_result"
    }
   ],
   "source": [
    "# Append to an Existing File\n",
    "\n",
    "file = open(\"demofile.txt\", \"a\")\n",
    "\n",
    "file.write(\"Now the file has one more line!\")"
   ]
  },
  {
   "cell_type": "code",
   "execution_count": 36,
   "metadata": {},
   "outputs": [
    {
     "data": {
      "text/plain": [
       "32"
      ]
     },
     "execution_count": 36,
     "metadata": {},
     "output_type": "execute_result"
    }
   ],
   "source": [
    "# Override an Existing File\n",
    "\n",
    "file = open(\"demofile.txt\", \"w\")\n",
    "\n",
    "file.write(\"Now the file has just this line!\")"
   ]
  },
  {
   "cell_type": "code",
   "execution_count": 38,
   "metadata": {},
   "outputs": [
    {
     "name": "stdout",
     "output_type": "stream",
     "text": [
      "Now the file has just this line!\n"
     ]
    }
   ],
   "source": [
    "# Open an Existing File\n",
    "\n",
    "file = open(\"demofile.txt\", \"r\")\n",
    "\n",
    "print(file.read()) "
   ]
  },
  {
   "cell_type": "code",
   "execution_count": 39,
   "metadata": {
    "collapsed": true
   },
   "outputs": [],
   "source": [
    "# Delete a File\n",
    "import os\n",
    "\n",
    "os.remove(\"demofile.txt\")"
   ]
  },
  {
   "cell_type": "code",
   "execution_count": null,
   "metadata": {},
   "outputs": [],
   "source": []
  }
 ],
 "metadata": {
  "kernelspec": {
   "display_name": "Python 3",
   "language": "python",
   "name": "python3"
  },
  "language_info": {
   "codemirror_mode": {
    "name": "ipython",
    "version": 3
   },
   "file_extension": ".py",
   "mimetype": "text/x-python",
   "name": "python",
   "nbconvert_exporter": "python",
   "pygments_lexer": "ipython3",
   "version": "3.7.4"
  }
 },
 "nbformat": 4,
 "nbformat_minor": 2
}
